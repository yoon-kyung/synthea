{
 "cells": [
  {
   "cell_type": "markdown",
   "metadata": {},
   "source": [
    "### IMPORT"
   ]
  },
  {
   "cell_type": "code",
   "execution_count": 4,
   "metadata": {},
   "outputs": [],
   "source": [
    "import psycopg2 as pg\n",
    "import pandas.io.sql as psql\n",
    "\n",
    "from os import getenv, listdir\n",
    "from os.path import isfile, join\n",
    "\n",
    "from dotenv import load_dotenv"
   ]
  },
  {
   "cell_type": "markdown",
   "metadata": {},
   "source": [
    "### DB 정보 로딩"
   ]
  },
  {
   "cell_type": "code",
   "execution_count": 5,
   "metadata": {},
   "outputs": [],
   "source": [
    "load_dotenv(dotenv_path = 'insert_data/db_info.env')\n",
    "\n",
    "DB_HOST = getenv('DB_HOST', None)\n",
    "DB_PORT = getenv('DB_PORT', 5432)\n",
    "DB_USER = getenv('DB_USER', None)\n",
    "DB_PASS = getenv('DB_PASS', None)\n",
    "DB_NAME = getenv('DB_NAME', None)\n",
    "\n",
    "conn_string = f\"host='{DB_HOST}' dbname='{DB_NAME}' user='{DB_USER}' password='{DB_PASS}' port={DB_PORT}\"\n",
    "conn = pg.connect(conn_string)"
   ]
  },
  {
   "cell_type": "markdown",
   "metadata": {},
   "source": [
    "### DATA LOAD"
   ]
  },
  {
   "cell_type": "code",
   "execution_count": 10,
   "metadata": {},
   "outputs": [],
   "source": [
    "def select_all(table_name: str):\n",
    "    return eval(f\"psql.read_sql('SELECT * FROM {table_name}', conn)\")"
   ]
  },
  {
   "cell_type": "code",
   "execution_count": 20,
   "metadata": {},
   "outputs": [],
   "source": [
    "person_data = select_all(table_name=\"person\") # 환자에 대한 정보\n",
    "death_data = select_all(table_name=\"death\") # 환자의 사망 정보 \n",
    "visit_occurrence_data = select_all(table_name=\"visit_occurrence\") # 방문에 대한 정보\n",
    "condition_occurrence_data = select_all(table_name=\"condition_occurrence\") # 병명에 대한 정보\n",
    "drug_exposure_data = select_all(table_name=\"drug_exposure\") # 의약품 처방 정보"
   ]
  },
  {
   "cell_type": "code",
   "execution_count": null,
   "metadata": {},
   "outputs": [],
   "source": []
  },
  {
   "cell_type": "code",
   "execution_count": null,
   "metadata": {},
   "outputs": [],
   "source": []
  },
  {
   "cell_type": "code",
   "execution_count": null,
   "metadata": {},
   "outputs": [],
   "source": []
  },
  {
   "cell_type": "code",
   "execution_count": null,
   "metadata": {},
   "outputs": [],
   "source": []
  }
 ],
 "metadata": {
  "kernelspec": {
   "display_name": "Python 3",
   "language": "python",
   "name": "python3"
  },
  "language_info": {
   "codemirror_mode": {
    "name": "ipython",
    "version": 3
   },
   "file_extension": ".py",
   "mimetype": "text/x-python",
   "name": "python",
   "nbconvert_exporter": "python",
   "pygments_lexer": "ipython3",
   "version": "3.8.6"
  }
 },
 "nbformat": 4,
 "nbformat_minor": 4
}
