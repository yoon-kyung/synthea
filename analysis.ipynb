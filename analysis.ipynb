{
 "cells": [
  {
   "cell_type": "markdown",
   "metadata": {},
   "source": [
    "## IMPORT"
   ]
  },
  {
   "cell_type": "code",
   "execution_count": 1,
   "metadata": {},
   "outputs": [],
   "source": [
    "import psycopg2 as pg\n",
    "import pandas.io.sql as psql\n",
    "import pandas as pd\n",
    "\n",
    "from os import getenv, listdir\n",
    "from os.path import isfile, join\n",
    "\n",
    "from dotenv import load_dotenv\n",
    "import datetime\n",
    "from datetime import date"
   ]
  },
  {
   "cell_type": "markdown",
   "metadata": {},
   "source": [
    "## DB 정보 로딩"
   ]
  },
  {
   "cell_type": "code",
   "execution_count": 2,
   "metadata": {},
   "outputs": [],
   "source": [
    "load_dotenv(dotenv_path = 'insert_data/db_info.env')\n",
    "\n",
    "DB_HOST = getenv('DB_HOST', None)\n",
    "DB_PORT = getenv('DB_PORT', 5432)\n",
    "DB_USER = getenv('DB_USER', None)\n",
    "DB_PASS = getenv('DB_PASS', None)\n",
    "DB_NAME = getenv('DB_NAME', None)\n",
    "\n",
    "conn_string = f\"host='{DB_HOST}' dbname='{DB_NAME}' user='{DB_USER}' password='{DB_PASS}' port={DB_PORT}\"\n",
    "conn = pg.connect(conn_string)"
   ]
  },
  {
   "cell_type": "markdown",
   "metadata": {},
   "source": [
    "## DATA LOAD"
   ]
  },
  {
   "cell_type": "code",
   "execution_count": 3,
   "metadata": {},
   "outputs": [],
   "source": [
    "def select_all(table_name: str):\n",
    "    return eval(f\"psql.read_sql('SELECT * FROM {table_name}', conn)\")"
   ]
  },
  {
   "cell_type": "code",
   "execution_count": 4,
   "metadata": {},
   "outputs": [],
   "source": [
    "person_data = select_all(table_name=\"person\") # 환자에 대한 정보\n",
    "death_data = select_all(table_name=\"death\") # 환자의 사망 정보 \n",
    "visit_occurrence_data = select_all(table_name=\"visit_occurrence\") # 방문에 대한 정보\n",
    "condition_occurrence_data = select_all(table_name=\"condition_occurrence\") # 병명에 대한 정보\n",
    "drug_exposure_data = select_all(table_name=\"drug_exposure\") # 의약품 처방 정보"
   ]
  },
  {
   "cell_type": "markdown",
   "metadata": {},
   "source": [
    "## 과제 문서에 언급된 column만 선정하여 데이터를 재가공"
   ]
  },
  {
   "cell_type": "code",
   "execution_count": 5,
   "metadata": {
    "scrolled": true
   },
   "outputs": [
    {
     "data": {
      "text/html": [
       "<div>\n",
       "<style scoped>\n",
       "    .dataframe tbody tr th:only-of-type {\n",
       "        vertical-align: middle;\n",
       "    }\n",
       "\n",
       "    .dataframe tbody tr th {\n",
       "        vertical-align: top;\n",
       "    }\n",
       "\n",
       "    .dataframe thead th {\n",
       "        text-align: right;\n",
       "    }\n",
       "</style>\n",
       "<table border=\"1\" class=\"dataframe\">\n",
       "  <thead>\n",
       "    <tr style=\"text-align: right;\">\n",
       "      <th></th>\n",
       "      <th>person_id</th>\n",
       "      <th>gender_concept_id</th>\n",
       "      <th>ethnicity_concept_id</th>\n",
       "      <th>year_of_birth</th>\n",
       "    </tr>\n",
       "  </thead>\n",
       "  <tbody>\n",
       "    <tr>\n",
       "      <th>0</th>\n",
       "      <td>402435</td>\n",
       "      <td>8532</td>\n",
       "      <td>0</td>\n",
       "      <td>1997</td>\n",
       "    </tr>\n",
       "    <tr>\n",
       "      <th>1</th>\n",
       "      <td>1022983</td>\n",
       "      <td>8507</td>\n",
       "      <td>0</td>\n",
       "      <td>1950</td>\n",
       "    </tr>\n",
       "  </tbody>\n",
       "</table>\n",
       "</div>"
      ],
      "text/plain": [
       "   person_id  gender_concept_id  ethnicity_concept_id  year_of_birth\n",
       "0     402435               8532                     0           1997\n",
       "1    1022983               8507                     0           1950"
      ]
     },
     "execution_count": 5,
     "metadata": {},
     "output_type": "execute_result"
    }
   ],
   "source": [
    "persons = person_data[[\"person_id\", \"gender_concept_id\", \"ethnicity_concept_id\", \"year_of_birth\"]]\n",
    "persons.head(2)"
   ]
  },
  {
   "cell_type": "code",
   "execution_count": 6,
   "metadata": {},
   "outputs": [
    {
     "data": {
      "text/html": [
       "<div>\n",
       "<style scoped>\n",
       "    .dataframe tbody tr th:only-of-type {\n",
       "        vertical-align: middle;\n",
       "    }\n",
       "\n",
       "    .dataframe tbody tr th {\n",
       "        vertical-align: top;\n",
       "    }\n",
       "\n",
       "    .dataframe thead th {\n",
       "        text-align: right;\n",
       "    }\n",
       "</style>\n",
       "<table border=\"1\" class=\"dataframe\">\n",
       "  <thead>\n",
       "    <tr style=\"text-align: right;\">\n",
       "      <th></th>\n",
       "      <th>person_id</th>\n",
       "      <th>death_date</th>\n",
       "    </tr>\n",
       "  </thead>\n",
       "  <tbody>\n",
       "    <tr>\n",
       "      <th>0</th>\n",
       "      <td>1691806</td>\n",
       "      <td>2015-06-02</td>\n",
       "    </tr>\n",
       "    <tr>\n",
       "      <th>1</th>\n",
       "      <td>99181</td>\n",
       "      <td>2018-11-04</td>\n",
       "    </tr>\n",
       "  </tbody>\n",
       "</table>\n",
       "</div>"
      ],
      "text/plain": [
       "   person_id  death_date\n",
       "0    1691806  2015-06-02\n",
       "1      99181  2018-11-04"
      ]
     },
     "execution_count": 6,
     "metadata": {},
     "output_type": "execute_result"
    }
   ],
   "source": [
    "death = death_data[[\"person_id\", \"death_date\"]]\n",
    "death.head(2)"
   ]
  },
  {
   "cell_type": "code",
   "execution_count": 7,
   "metadata": {},
   "outputs": [
    {
     "data": {
      "text/html": [
       "<div>\n",
       "<style scoped>\n",
       "    .dataframe tbody tr th:only-of-type {\n",
       "        vertical-align: middle;\n",
       "    }\n",
       "\n",
       "    .dataframe tbody tr th {\n",
       "        vertical-align: top;\n",
       "    }\n",
       "\n",
       "    .dataframe thead th {\n",
       "        text-align: right;\n",
       "    }\n",
       "</style>\n",
       "<table border=\"1\" class=\"dataframe\">\n",
       "  <thead>\n",
       "    <tr style=\"text-align: right;\">\n",
       "      <th></th>\n",
       "      <th>person_id</th>\n",
       "      <th>visit_occurrence_id</th>\n",
       "      <th>visit_concept_id</th>\n",
       "      <th>visit_end_date</th>\n",
       "      <th>visit_start_date</th>\n",
       "    </tr>\n",
       "  </thead>\n",
       "  <tbody>\n",
       "    <tr>\n",
       "      <th>0</th>\n",
       "      <td>116496</td>\n",
       "      <td>36112943</td>\n",
       "      <td>9202</td>\n",
       "      <td>1962-04-13</td>\n",
       "      <td>1962-04-13</td>\n",
       "    </tr>\n",
       "    <tr>\n",
       "      <th>1</th>\n",
       "      <td>116496</td>\n",
       "      <td>36112944</td>\n",
       "      <td>9202</td>\n",
       "      <td>1962-04-24</td>\n",
       "      <td>1962-04-24</td>\n",
       "    </tr>\n",
       "  </tbody>\n",
       "</table>\n",
       "</div>"
      ],
      "text/plain": [
       "   person_id  visit_occurrence_id  visit_concept_id visit_end_date  \\\n",
       "0     116496             36112943              9202     1962-04-13   \n",
       "1     116496             36112944              9202     1962-04-24   \n",
       "\n",
       "  visit_start_date  \n",
       "0       1962-04-13  \n",
       "1       1962-04-24  "
      ]
     },
     "execution_count": 7,
     "metadata": {},
     "output_type": "execute_result"
    }
   ],
   "source": [
    "visit_occurrences = visit_occurrence_data[[\"person_id\", \"visit_occurrence_id\", \"visit_concept_id\", \"visit_end_date\", \"visit_start_date\"]]\n",
    "visit_occurrences.head(2)"
   ]
  },
  {
   "cell_type": "code",
   "execution_count": 8,
   "metadata": {},
   "outputs": [
    {
     "data": {
      "text/html": [
       "<div>\n",
       "<style scoped>\n",
       "    .dataframe tbody tr th:only-of-type {\n",
       "        vertical-align: middle;\n",
       "    }\n",
       "\n",
       "    .dataframe tbody tr th {\n",
       "        vertical-align: top;\n",
       "    }\n",
       "\n",
       "    .dataframe thead th {\n",
       "        text-align: right;\n",
       "    }\n",
       "</style>\n",
       "<table border=\"1\" class=\"dataframe\">\n",
       "  <thead>\n",
       "    <tr style=\"text-align: right;\">\n",
       "      <th></th>\n",
       "      <th>person_id</th>\n",
       "      <th>visit_occurrence_id</th>\n",
       "      <th>condition_concept_id</th>\n",
       "      <th>condition_source_value</th>\n",
       "    </tr>\n",
       "  </thead>\n",
       "  <tbody>\n",
       "    <tr>\n",
       "      <th>0</th>\n",
       "      <td>116496</td>\n",
       "      <td>36112954</td>\n",
       "      <td>0</td>\n",
       "      <td>162864005</td>\n",
       "    </tr>\n",
       "    <tr>\n",
       "      <th>1</th>\n",
       "      <td>116496</td>\n",
       "      <td>36112952</td>\n",
       "      <td>0</td>\n",
       "      <td>840544004</td>\n",
       "    </tr>\n",
       "  </tbody>\n",
       "</table>\n",
       "</div>"
      ],
      "text/plain": [
       "   person_id  visit_occurrence_id  condition_concept_id  \\\n",
       "0     116496             36112954                     0   \n",
       "1     116496             36112952                     0   \n",
       "\n",
       "   condition_source_value  \n",
       "0               162864005  \n",
       "1               840544004  "
      ]
     },
     "execution_count": 8,
     "metadata": {},
     "output_type": "execute_result"
    }
   ],
   "source": [
    "condition_occurrences = condition_occurrence_data[[\"person_id\", \"visit_occurrence_id\", \"condition_concept_id\", \"condition_source_value\"]]\n",
    "condition_occurrences.head(2)"
   ]
  },
  {
   "cell_type": "code",
   "execution_count": 9,
   "metadata": {},
   "outputs": [
    {
     "data": {
      "text/html": [
       "<div>\n",
       "<style scoped>\n",
       "    .dataframe tbody tr th:only-of-type {\n",
       "        vertical-align: middle;\n",
       "    }\n",
       "\n",
       "    .dataframe tbody tr th {\n",
       "        vertical-align: top;\n",
       "    }\n",
       "\n",
       "    .dataframe thead th {\n",
       "        text-align: right;\n",
       "    }\n",
       "</style>\n",
       "<table border=\"1\" class=\"dataframe\">\n",
       "  <thead>\n",
       "    <tr style=\"text-align: right;\">\n",
       "      <th></th>\n",
       "      <th>person_id</th>\n",
       "      <th>visit_occurrence_id</th>\n",
       "      <th>drug_concept_id</th>\n",
       "      <th>drug_source_value</th>\n",
       "    </tr>\n",
       "  </thead>\n",
       "  <tbody>\n",
       "    <tr>\n",
       "      <th>0</th>\n",
       "      <td>26922</td>\n",
       "      <td>99499216</td>\n",
       "      <td>19073183</td>\n",
       "      <td>308182</td>\n",
       "    </tr>\n",
       "    <tr>\n",
       "      <th>1</th>\n",
       "      <td>2955</td>\n",
       "      <td>9251642</td>\n",
       "      <td>40231925</td>\n",
       "      <td>1049221</td>\n",
       "    </tr>\n",
       "  </tbody>\n",
       "</table>\n",
       "</div>"
      ],
      "text/plain": [
       "   person_id  visit_occurrence_id  drug_concept_id  drug_source_value\n",
       "0      26922             99499216         19073183             308182\n",
       "1       2955              9251642         40231925            1049221"
      ]
     },
     "execution_count": 9,
     "metadata": {},
     "output_type": "execute_result"
    }
   ],
   "source": [
    "drug_exposures = drug_exposure_data[[\"person_id\", \"visit_occurrence_id\", \"drug_concept_id\", \"drug_source_value\"]]\n",
    "drug_exposures.head(2)"
   ]
  },
  {
   "cell_type": "markdown",
   "metadata": {},
   "source": [
    "### person 데이터와 visit_occurrence 데이터의 새로운 컬럼 생성\n",
    "- person: 나이 (year_of_birth)\n",
    "- visit_occurrence: 내원일수 (visit_end_date - visit_start_date)"
   ]
  },
  {
   "cell_type": "code",
   "execution_count": 10,
   "metadata": {
    "scrolled": true
   },
   "outputs": [
    {
     "name": "stderr",
     "output_type": "stream",
     "text": [
      "<ipython-input-10-8f18ad4e47dd>:2: SettingWithCopyWarning: \n",
      "A value is trying to be set on a copy of a slice from a DataFrame.\n",
      "Try using .loc[row_indexer,col_indexer] = value instead\n",
      "\n",
      "See the caveats in the documentation: https://pandas.pydata.org/pandas-docs/stable/user_guide/indexing.html#returning-a-view-versus-a-copy\n",
      "  persons[\"age\"] = int(today) - persons[\"year_of_birth\"] + 1 # 한국은 만나이가 아니므로 1을 더해줌\n"
     ]
    }
   ],
   "source": [
    "today = date.today().strftime(\"%Y\")\n",
    "persons[\"age\"] = int(today) - persons[\"year_of_birth\"] + 1 # 한국은 만나이가 아니므로 1을 더해줌\n",
    "\n",
    "# year_of_birth 컬럼 제거\n",
    "if \"year_of_birth\" in list(persons.columns):\n",
    "    persons = persons.drop([\"year_of_birth\"], axis=1)"
   ]
  },
  {
   "cell_type": "code",
   "execution_count": 11,
   "metadata": {},
   "outputs": [
    {
     "data": {
      "text/html": [
       "<div>\n",
       "<style scoped>\n",
       "    .dataframe tbody tr th:only-of-type {\n",
       "        vertical-align: middle;\n",
       "    }\n",
       "\n",
       "    .dataframe tbody tr th {\n",
       "        vertical-align: top;\n",
       "    }\n",
       "\n",
       "    .dataframe thead th {\n",
       "        text-align: right;\n",
       "    }\n",
       "</style>\n",
       "<table border=\"1\" class=\"dataframe\">\n",
       "  <thead>\n",
       "    <tr style=\"text-align: right;\">\n",
       "      <th></th>\n",
       "      <th>person_id</th>\n",
       "      <th>gender_concept_id</th>\n",
       "      <th>ethnicity_concept_id</th>\n",
       "      <th>age</th>\n",
       "    </tr>\n",
       "  </thead>\n",
       "  <tbody>\n",
       "    <tr>\n",
       "      <th>0</th>\n",
       "      <td>402435</td>\n",
       "      <td>8532</td>\n",
       "      <td>0</td>\n",
       "      <td>24</td>\n",
       "    </tr>\n",
       "    <tr>\n",
       "      <th>1</th>\n",
       "      <td>1022983</td>\n",
       "      <td>8507</td>\n",
       "      <td>0</td>\n",
       "      <td>71</td>\n",
       "    </tr>\n",
       "  </tbody>\n",
       "</table>\n",
       "</div>"
      ],
      "text/plain": [
       "   person_id  gender_concept_id  ethnicity_concept_id  age\n",
       "0     402435               8532                     0   24\n",
       "1    1022983               8507                     0   71"
      ]
     },
     "execution_count": 11,
     "metadata": {},
     "output_type": "execute_result"
    }
   ],
   "source": [
    "persons.head(2)"
   ]
  },
  {
   "cell_type": "code",
   "execution_count": 12,
   "metadata": {},
   "outputs": [
    {
     "name": "stderr",
     "output_type": "stream",
     "text": [
      "<ipython-input-12-77196e6bb3e9>:1: SettingWithCopyWarning: \n",
      "A value is trying to be set on a copy of a slice from a DataFrame.\n",
      "Try using .loc[row_indexer,col_indexer] = value instead\n",
      "\n",
      "See the caveats in the documentation: https://pandas.pydata.org/pandas-docs/stable/user_guide/indexing.html#returning-a-view-versus-a-copy\n",
      "  visit_occurrences[\"visit\"] = pd.to_datetime(visit_occurrences['visit_end_date']) \\\n"
     ]
    }
   ],
   "source": [
    "visit_occurrences[\"visit\"] = pd.to_datetime(visit_occurrences['visit_end_date']) \\\n",
    "                                - pd.to_datetime(visit_occurrences['visit_start_date'])\n",
    "\n",
    "# visit_end_date, visit_start_date 컬럼 제거\n",
    "for c in visit_occurrences.columns:\n",
    "    if c == \"visit_end_date\" or c == \"visit_start_date\":\n",
    "        visit_occurrences = visit_occurrences.drop([c], axis=1)"
   ]
  },
  {
   "cell_type": "code",
   "execution_count": 13,
   "metadata": {},
   "outputs": [
    {
     "data": {
      "text/html": [
       "<div>\n",
       "<style scoped>\n",
       "    .dataframe tbody tr th:only-of-type {\n",
       "        vertical-align: middle;\n",
       "    }\n",
       "\n",
       "    .dataframe tbody tr th {\n",
       "        vertical-align: top;\n",
       "    }\n",
       "\n",
       "    .dataframe thead th {\n",
       "        text-align: right;\n",
       "    }\n",
       "</style>\n",
       "<table border=\"1\" class=\"dataframe\">\n",
       "  <thead>\n",
       "    <tr style=\"text-align: right;\">\n",
       "      <th></th>\n",
       "      <th>person_id</th>\n",
       "      <th>visit_occurrence_id</th>\n",
       "      <th>visit_concept_id</th>\n",
       "      <th>visit</th>\n",
       "    </tr>\n",
       "  </thead>\n",
       "  <tbody>\n",
       "    <tr>\n",
       "      <th>0</th>\n",
       "      <td>116496</td>\n",
       "      <td>36112943</td>\n",
       "      <td>9202</td>\n",
       "      <td>0 days</td>\n",
       "    </tr>\n",
       "    <tr>\n",
       "      <th>1</th>\n",
       "      <td>116496</td>\n",
       "      <td>36112944</td>\n",
       "      <td>9202</td>\n",
       "      <td>0 days</td>\n",
       "    </tr>\n",
       "    <tr>\n",
       "      <th>2</th>\n",
       "      <td>116496</td>\n",
       "      <td>36112954</td>\n",
       "      <td>9202</td>\n",
       "      <td>0 days</td>\n",
       "    </tr>\n",
       "  </tbody>\n",
       "</table>\n",
       "</div>"
      ],
      "text/plain": [
       "   person_id  visit_occurrence_id  visit_concept_id  visit\n",
       "0     116496             36112943              9202 0 days\n",
       "1     116496             36112944              9202 0 days\n",
       "2     116496             36112954              9202 0 days"
      ]
     },
     "execution_count": 13,
     "metadata": {},
     "output_type": "execute_result"
    }
   ],
   "source": [
    "visit_occurrences.head(3)"
   ]
  },
  {
   "cell_type": "markdown",
   "metadata": {},
   "source": [
    "## JOIN DATA\n",
    "- person_id와 visit_occurrence_id로 join하여 데이터를 하나로 만든다."
   ]
  },
  {
   "cell_type": "code",
   "execution_count": 14,
   "metadata": {},
   "outputs": [
    {
     "name": "stdout",
     "output_type": "stream",
     "text": [
      "1000 152 41810 12167 46579\n"
     ]
    }
   ],
   "source": [
    "print(len(persons), len(death), len(visit_occurrence_data), len(condition_occurrence_data), len(drug_exposure_data))"
   ]
  },
  {
   "cell_type": "markdown",
   "metadata": {},
   "source": [
    "#### person과 death를 조인하면 사망한 사람의 정보를 알 수 있음"
   ]
  },
  {
   "cell_type": "code",
   "execution_count": 15,
   "metadata": {},
   "outputs": [
    {
     "data": {
      "text/html": [
       "<div>\n",
       "<style scoped>\n",
       "    .dataframe tbody tr th:only-of-type {\n",
       "        vertical-align: middle;\n",
       "    }\n",
       "\n",
       "    .dataframe tbody tr th {\n",
       "        vertical-align: top;\n",
       "    }\n",
       "\n",
       "    .dataframe thead th {\n",
       "        text-align: right;\n",
       "    }\n",
       "</style>\n",
       "<table border=\"1\" class=\"dataframe\">\n",
       "  <thead>\n",
       "    <tr style=\"text-align: right;\">\n",
       "      <th></th>\n",
       "      <th>person_id</th>\n",
       "      <th>gender_concept_id</th>\n",
       "      <th>ethnicity_concept_id</th>\n",
       "      <th>age</th>\n",
       "      <th>death_date</th>\n",
       "    </tr>\n",
       "  </thead>\n",
       "  <tbody>\n",
       "    <tr>\n",
       "      <th>998</th>\n",
       "      <td>2565313</td>\n",
       "      <td>8532</td>\n",
       "      <td>0</td>\n",
       "      <td>56</td>\n",
       "      <td>NaN</td>\n",
       "    </tr>\n",
       "    <tr>\n",
       "      <th>999</th>\n",
       "      <td>277792</td>\n",
       "      <td>8507</td>\n",
       "      <td>0</td>\n",
       "      <td>67</td>\n",
       "      <td>NaN</td>\n",
       "    </tr>\n",
       "  </tbody>\n",
       "</table>\n",
       "</div>"
      ],
      "text/plain": [
       "     person_id  gender_concept_id  ethnicity_concept_id  age death_date\n",
       "998    2565313               8532                     0   56        NaN\n",
       "999     277792               8507                     0   67        NaN"
      ]
     },
     "execution_count": 15,
     "metadata": {},
     "output_type": "execute_result"
    }
   ],
   "source": [
    "new_data = pd.merge(persons, death, how='left', on='person_id')\n",
    "new_data.tail(2)"
   ]
  },
  {
   "cell_type": "markdown",
   "metadata": {},
   "source": [
    "#### person+death+visit_occurrence"
   ]
  },
  {
   "cell_type": "code",
   "execution_count": 16,
   "metadata": {},
   "outputs": [
    {
     "data": {
      "text/html": [
       "<div>\n",
       "<style scoped>\n",
       "    .dataframe tbody tr th:only-of-type {\n",
       "        vertical-align: middle;\n",
       "    }\n",
       "\n",
       "    .dataframe tbody tr th {\n",
       "        vertical-align: top;\n",
       "    }\n",
       "\n",
       "    .dataframe thead th {\n",
       "        text-align: right;\n",
       "    }\n",
       "</style>\n",
       "<table border=\"1\" class=\"dataframe\">\n",
       "  <thead>\n",
       "    <tr style=\"text-align: right;\">\n",
       "      <th></th>\n",
       "      <th>person_id</th>\n",
       "      <th>gender_concept_id</th>\n",
       "      <th>ethnicity_concept_id</th>\n",
       "      <th>age</th>\n",
       "      <th>death_date</th>\n",
       "      <th>visit_occurrence_id</th>\n",
       "      <th>visit_concept_id</th>\n",
       "      <th>visit</th>\n",
       "    </tr>\n",
       "  </thead>\n",
       "  <tbody>\n",
       "    <tr>\n",
       "      <th>41808</th>\n",
       "      <td>277792</td>\n",
       "      <td>8507</td>\n",
       "      <td>0</td>\n",
       "      <td>67</td>\n",
       "      <td>NaN</td>\n",
       "      <td>67292323</td>\n",
       "      <td>9202</td>\n",
       "      <td>0 days</td>\n",
       "    </tr>\n",
       "    <tr>\n",
       "      <th>41809</th>\n",
       "      <td>277792</td>\n",
       "      <td>8507</td>\n",
       "      <td>0</td>\n",
       "      <td>67</td>\n",
       "      <td>NaN</td>\n",
       "      <td>67292311</td>\n",
       "      <td>9202</td>\n",
       "      <td>0 days</td>\n",
       "    </tr>\n",
       "  </tbody>\n",
       "</table>\n",
       "</div>"
      ],
      "text/plain": [
       "       person_id  gender_concept_id  ethnicity_concept_id  age death_date  \\\n",
       "41808     277792               8507                     0   67        NaN   \n",
       "41809     277792               8507                     0   67        NaN   \n",
       "\n",
       "       visit_occurrence_id  visit_concept_id  visit  \n",
       "41808             67292323              9202 0 days  \n",
       "41809             67292311              9202 0 days  "
      ]
     },
     "execution_count": 16,
     "metadata": {},
     "output_type": "execute_result"
    }
   ],
   "source": [
    "new_data = pd.merge(new_data, visit_occurrences, on='person_id')\n",
    "new_data.tail(2)"
   ]
  },
  {
   "cell_type": "markdown",
   "metadata": {},
   "source": [
    "#### person+death+visit_occurrence+condition_occurrences"
   ]
  },
  {
   "cell_type": "code",
   "execution_count": 17,
   "metadata": {},
   "outputs": [
    {
     "data": {
      "text/html": [
       "<div>\n",
       "<style scoped>\n",
       "    .dataframe tbody tr th:only-of-type {\n",
       "        vertical-align: middle;\n",
       "    }\n",
       "\n",
       "    .dataframe tbody tr th {\n",
       "        vertical-align: top;\n",
       "    }\n",
       "\n",
       "    .dataframe thead th {\n",
       "        text-align: right;\n",
       "    }\n",
       "</style>\n",
       "<table border=\"1\" class=\"dataframe\">\n",
       "  <thead>\n",
       "    <tr style=\"text-align: right;\">\n",
       "      <th></th>\n",
       "      <th>person_id</th>\n",
       "      <th>gender_concept_id</th>\n",
       "      <th>ethnicity_concept_id</th>\n",
       "      <th>age</th>\n",
       "      <th>death_date</th>\n",
       "      <th>visit_occurrence_id</th>\n",
       "      <th>visit_concept_id</th>\n",
       "      <th>visit</th>\n",
       "      <th>condition_concept_id</th>\n",
       "      <th>condition_source_value</th>\n",
       "    </tr>\n",
       "  </thead>\n",
       "  <tbody>\n",
       "    <tr>\n",
       "      <th>12165</th>\n",
       "      <td>277792</td>\n",
       "      <td>8507</td>\n",
       "      <td>0</td>\n",
       "      <td>67</td>\n",
       "      <td>NaN</td>\n",
       "      <td>67292311</td>\n",
       "      <td>9202</td>\n",
       "      <td>0 days</td>\n",
       "      <td>0</td>\n",
       "      <td>840544004</td>\n",
       "    </tr>\n",
       "    <tr>\n",
       "      <th>12166</th>\n",
       "      <td>277792</td>\n",
       "      <td>8507</td>\n",
       "      <td>0</td>\n",
       "      <td>67</td>\n",
       "      <td>NaN</td>\n",
       "      <td>67292311</td>\n",
       "      <td>9202</td>\n",
       "      <td>0 days</td>\n",
       "      <td>37311061</td>\n",
       "      <td>840539006</td>\n",
       "    </tr>\n",
       "  </tbody>\n",
       "</table>\n",
       "</div>"
      ],
      "text/plain": [
       "       person_id  gender_concept_id  ethnicity_concept_id  age death_date  \\\n",
       "12165     277792               8507                     0   67        NaN   \n",
       "12166     277792               8507                     0   67        NaN   \n",
       "\n",
       "       visit_occurrence_id  visit_concept_id  visit  condition_concept_id  \\\n",
       "12165             67292311              9202 0 days                     0   \n",
       "12166             67292311              9202 0 days              37311061   \n",
       "\n",
       "       condition_source_value  \n",
       "12165               840544004  \n",
       "12166               840539006  "
      ]
     },
     "execution_count": 17,
     "metadata": {},
     "output_type": "execute_result"
    }
   ],
   "source": [
    "new_data = pd.merge(new_data, condition_occurrences, on=['person_id', 'visit_occurrence_id'])\n",
    "new_data.tail(2)"
   ]
  },
  {
   "cell_type": "markdown",
   "metadata": {},
   "source": [
    "#### person+death+visit_occurrence+condition_occurrences"
   ]
  },
  {
   "cell_type": "code",
   "execution_count": 18,
   "metadata": {
    "scrolled": true
   },
   "outputs": [
    {
     "data": {
      "text/html": [
       "<div>\n",
       "<style scoped>\n",
       "    .dataframe tbody tr th:only-of-type {\n",
       "        vertical-align: middle;\n",
       "    }\n",
       "\n",
       "    .dataframe tbody tr th {\n",
       "        vertical-align: top;\n",
       "    }\n",
       "\n",
       "    .dataframe thead th {\n",
       "        text-align: right;\n",
       "    }\n",
       "</style>\n",
       "<table border=\"1\" class=\"dataframe\">\n",
       "  <thead>\n",
       "    <tr style=\"text-align: right;\">\n",
       "      <th></th>\n",
       "      <th>person_id</th>\n",
       "      <th>gender_concept_id</th>\n",
       "      <th>ethnicity_concept_id</th>\n",
       "      <th>age</th>\n",
       "      <th>death_date</th>\n",
       "      <th>visit_occurrence_id</th>\n",
       "      <th>visit_concept_id</th>\n",
       "      <th>visit</th>\n",
       "      <th>condition_concept_id</th>\n",
       "      <th>condition_source_value</th>\n",
       "      <th>drug_concept_id</th>\n",
       "      <th>drug_source_value</th>\n",
       "    </tr>\n",
       "  </thead>\n",
       "  <tbody>\n",
       "    <tr>\n",
       "      <th>8204</th>\n",
       "      <td>2565313</td>\n",
       "      <td>8532</td>\n",
       "      <td>0</td>\n",
       "      <td>56</td>\n",
       "      <td>NaN</td>\n",
       "      <td>41635384</td>\n",
       "      <td>9202</td>\n",
       "      <td>0 days</td>\n",
       "      <td>4294548</td>\n",
       "      <td>75498004</td>\n",
       "      <td>1713671</td>\n",
       "      <td>562251</td>\n",
       "    </tr>\n",
       "    <tr>\n",
       "      <th>8205</th>\n",
       "      <td>277792</td>\n",
       "      <td>8507</td>\n",
       "      <td>0</td>\n",
       "      <td>67</td>\n",
       "      <td>NaN</td>\n",
       "      <td>67292308</td>\n",
       "      <td>9202</td>\n",
       "      <td>0 days</td>\n",
       "      <td>260139</td>\n",
       "      <td>10509002</td>\n",
       "      <td>1127433</td>\n",
       "      <td>313782</td>\n",
       "    </tr>\n",
       "  </tbody>\n",
       "</table>\n",
       "</div>"
      ],
      "text/plain": [
       "      person_id  gender_concept_id  ethnicity_concept_id  age death_date  \\\n",
       "8204    2565313               8532                     0   56        NaN   \n",
       "8205     277792               8507                     0   67        NaN   \n",
       "\n",
       "      visit_occurrence_id  visit_concept_id  visit  condition_concept_id  \\\n",
       "8204             41635384              9202 0 days               4294548   \n",
       "8205             67292308              9202 0 days                260139   \n",
       "\n",
       "      condition_source_value  drug_concept_id  drug_source_value  \n",
       "8204                75498004          1713671             562251  \n",
       "8205                10509002          1127433             313782  "
      ]
     },
     "execution_count": 18,
     "metadata": {},
     "output_type": "execute_result"
    }
   ],
   "source": [
    "new_data = pd.merge(new_data, drug_exposures, on=['person_id', 'visit_occurrence_id'])\n",
    "new_data.tail(2)"
   ]
  },
  {
   "cell_type": "markdown",
   "metadata": {},
   "source": [
    "### COPY DATA"
   ]
  },
  {
   "cell_type": "code",
   "execution_count": 29,
   "metadata": {},
   "outputs": [
    {
     "data": {
      "text/html": [
       "<div>\n",
       "<style scoped>\n",
       "    .dataframe tbody tr th:only-of-type {\n",
       "        vertical-align: middle;\n",
       "    }\n",
       "\n",
       "    .dataframe tbody tr th {\n",
       "        vertical-align: top;\n",
       "    }\n",
       "\n",
       "    .dataframe thead th {\n",
       "        text-align: right;\n",
       "    }\n",
       "</style>\n",
       "<table border=\"1\" class=\"dataframe\">\n",
       "  <thead>\n",
       "    <tr style=\"text-align: right;\">\n",
       "      <th></th>\n",
       "      <th>person_id</th>\n",
       "      <th>gender_concept_id</th>\n",
       "      <th>ethnicity_concept_id</th>\n",
       "      <th>age</th>\n",
       "      <th>death_date</th>\n",
       "      <th>visit_occurrence_id</th>\n",
       "      <th>visit_concept_id</th>\n",
       "      <th>visit</th>\n",
       "      <th>condition_concept_id</th>\n",
       "      <th>condition_source_value</th>\n",
       "      <th>drug_concept_id</th>\n",
       "      <th>drug_source_value</th>\n",
       "    </tr>\n",
       "  </thead>\n",
       "  <tbody>\n",
       "    <tr>\n",
       "      <th>8204</th>\n",
       "      <td>2565313</td>\n",
       "      <td>8532</td>\n",
       "      <td>0</td>\n",
       "      <td>56</td>\n",
       "      <td>NaN</td>\n",
       "      <td>41635384</td>\n",
       "      <td>9202</td>\n",
       "      <td>0 days</td>\n",
       "      <td>4294548</td>\n",
       "      <td>75498004</td>\n",
       "      <td>1713671</td>\n",
       "      <td>562251</td>\n",
       "    </tr>\n",
       "    <tr>\n",
       "      <th>8205</th>\n",
       "      <td>277792</td>\n",
       "      <td>8507</td>\n",
       "      <td>0</td>\n",
       "      <td>67</td>\n",
       "      <td>NaN</td>\n",
       "      <td>67292308</td>\n",
       "      <td>9202</td>\n",
       "      <td>0 days</td>\n",
       "      <td>260139</td>\n",
       "      <td>10509002</td>\n",
       "      <td>1127433</td>\n",
       "      <td>313782</td>\n",
       "    </tr>\n",
       "  </tbody>\n",
       "</table>\n",
       "</div>"
      ],
      "text/plain": [
       "      person_id  gender_concept_id  ethnicity_concept_id  age death_date  \\\n",
       "8204    2565313               8532                     0   56        NaN   \n",
       "8205     277792               8507                     0   67        NaN   \n",
       "\n",
       "      visit_occurrence_id  visit_concept_id  visit  condition_concept_id  \\\n",
       "8204             41635384              9202 0 days               4294548   \n",
       "8205             67292308              9202 0 days                260139   \n",
       "\n",
       "      condition_source_value  drug_concept_id  drug_source_value  \n",
       "8204                75498004          1713671             562251  \n",
       "8205                10509002          1127433             313782  "
      ]
     },
     "execution_count": 29,
     "metadata": {},
     "output_type": "execute_result"
    }
   ],
   "source": [
    "data_copy = new_data.copy()\n",
    "data_copy.tail(2)"
   ]
  },
  {
   "cell_type": "markdown",
   "metadata": {},
   "source": [
    "### NaN value 체크"
   ]
  },
  {
   "cell_type": "code",
   "execution_count": 30,
   "metadata": {},
   "outputs": [
    {
     "name": "stdout",
     "output_type": "stream",
     "text": [
      "person_id                    0\n",
      "gender_concept_id            0\n",
      "ethnicity_concept_id         0\n",
      "age                          0\n",
      "death_date                5436\n",
      "visit_occurrence_id          0\n",
      "visit_concept_id             0\n",
      "visit                        0\n",
      "condition_concept_id         0\n",
      "condition_source_value       0\n",
      "drug_concept_id              0\n",
      "drug_source_value            0\n",
      "dtype: int64\n"
     ]
    }
   ],
   "source": [
    "print(data_copy.isnull().sum())"
   ]
  },
  {
   "cell_type": "markdown",
   "metadata": {},
   "source": [
    "## 문제풀이\n",
    "\n",
    "사망률과 연관성이 높은 변수 탐색\n",
    "\n",
    "- person: 성별, 인종, 나이\n",
    "- visit_occurrence: 입원, 외래, 응급, 내원일수\n",
    "- condition_occurrence: 진단\n",
    "- drug_exposure: 의약품\n",
    "\n",
    "**사용할 연관성 척도: 두 변수 사이의 상관관계의 정도를 나타내는 상관계수를 이용 한다.**"
   ]
  },
  {
   "cell_type": "markdown",
   "metadata": {},
   "source": [
    "### DUMMIES"
   ]
  },
  {
   "cell_type": "markdown",
   "metadata": {},
   "source": [
    "- 사망한 사람인 경우 0으로 사망하지 않은 사람의 경우 1로 변경"
   ]
  },
  {
   "cell_type": "code",
   "execution_count": 31,
   "metadata": {
    "scrolled": true
   },
   "outputs": [
    {
     "data": {
      "text/html": [
       "<div>\n",
       "<style scoped>\n",
       "    .dataframe tbody tr th:only-of-type {\n",
       "        vertical-align: middle;\n",
       "    }\n",
       "\n",
       "    .dataframe tbody tr th {\n",
       "        vertical-align: top;\n",
       "    }\n",
       "\n",
       "    .dataframe thead th {\n",
       "        text-align: right;\n",
       "    }\n",
       "</style>\n",
       "<table border=\"1\" class=\"dataframe\">\n",
       "  <thead>\n",
       "    <tr style=\"text-align: right;\">\n",
       "      <th></th>\n",
       "      <th>person_id</th>\n",
       "      <th>gender_concept_id</th>\n",
       "      <th>ethnicity_concept_id</th>\n",
       "      <th>age</th>\n",
       "      <th>death_date</th>\n",
       "      <th>visit_occurrence_id</th>\n",
       "      <th>visit_concept_id</th>\n",
       "      <th>visit</th>\n",
       "      <th>condition_concept_id</th>\n",
       "      <th>condition_source_value</th>\n",
       "      <th>drug_concept_id</th>\n",
       "      <th>drug_source_value</th>\n",
       "    </tr>\n",
       "  </thead>\n",
       "  <tbody>\n",
       "    <tr>\n",
       "      <th>8204</th>\n",
       "      <td>2565313</td>\n",
       "      <td>8532</td>\n",
       "      <td>0</td>\n",
       "      <td>56</td>\n",
       "      <td>1</td>\n",
       "      <td>41635384</td>\n",
       "      <td>9202</td>\n",
       "      <td>0 days</td>\n",
       "      <td>4294548</td>\n",
       "      <td>75498004</td>\n",
       "      <td>1713671</td>\n",
       "      <td>562251</td>\n",
       "    </tr>\n",
       "    <tr>\n",
       "      <th>8205</th>\n",
       "      <td>277792</td>\n",
       "      <td>8507</td>\n",
       "      <td>0</td>\n",
       "      <td>67</td>\n",
       "      <td>1</td>\n",
       "      <td>67292308</td>\n",
       "      <td>9202</td>\n",
       "      <td>0 days</td>\n",
       "      <td>260139</td>\n",
       "      <td>10509002</td>\n",
       "      <td>1127433</td>\n",
       "      <td>313782</td>\n",
       "    </tr>\n",
       "  </tbody>\n",
       "</table>\n",
       "</div>"
      ],
      "text/plain": [
       "      person_id  gender_concept_id  ethnicity_concept_id  age  death_date  \\\n",
       "8204    2565313               8532                     0   56           1   \n",
       "8205     277792               8507                     0   67           1   \n",
       "\n",
       "      visit_occurrence_id  visit_concept_id  visit  condition_concept_id  \\\n",
       "8204             41635384              9202 0 days               4294548   \n",
       "8205             67292308              9202 0 days                260139   \n",
       "\n",
       "      condition_source_value  drug_concept_id  drug_source_value  \n",
       "8204                75498004          1713671             562251  \n",
       "8205                10509002          1127433             313782  "
      ]
     },
     "execution_count": 31,
     "metadata": {},
     "output_type": "execute_result"
    }
   ],
   "source": [
    "data_copy['death_date'] = data_copy['death_date'].apply(lambda x:1 if pd.isna(x) else 0)\n",
    "data_copy.tail(2)"
   ]
  },
  {
   "cell_type": "markdown",
   "metadata": {},
   "source": [
    "### 1. 나이와 사망률의 상관계수\n",
    "- 나이는 연속형 변수로도 볼 수도 있어서 더미 변환하지 않음"
   ]
  },
  {
   "cell_type": "code",
   "execution_count": 32,
   "metadata": {},
   "outputs": [
    {
     "data": {
      "text/plain": [
       "66     307\n",
       "59     298\n",
       "70     287\n",
       "71     206\n",
       "72     198\n",
       "      ... \n",
       "100     13\n",
       "98      11\n",
       "3       11\n",
       "1       10\n",
       "112      4\n",
       "Name: age, Length: 112, dtype: int64"
      ]
     },
     "execution_count": 32,
     "metadata": {},
     "output_type": "execute_result"
    }
   ],
   "source": [
    "data_copy['age'].value_counts()"
   ]
  },
  {
   "cell_type": "code",
   "execution_count": 57,
   "metadata": {},
   "outputs": [
    {
     "data": {
      "text/html": [
       "<div>\n",
       "<style scoped>\n",
       "    .dataframe tbody tr th:only-of-type {\n",
       "        vertical-align: middle;\n",
       "    }\n",
       "\n",
       "    .dataframe tbody tr th {\n",
       "        vertical-align: top;\n",
       "    }\n",
       "\n",
       "    .dataframe thead th {\n",
       "        text-align: right;\n",
       "    }\n",
       "</style>\n",
       "<table border=\"1\" class=\"dataframe\">\n",
       "  <thead>\n",
       "    <tr style=\"text-align: right;\">\n",
       "      <th></th>\n",
       "      <th>death_date</th>\n",
       "      <th>age</th>\n",
       "    </tr>\n",
       "  </thead>\n",
       "  <tbody>\n",
       "    <tr>\n",
       "      <th>death_date</th>\n",
       "      <td>1.00000</td>\n",
       "      <td>-0.46894</td>\n",
       "    </tr>\n",
       "    <tr>\n",
       "      <th>age</th>\n",
       "      <td>-0.46894</td>\n",
       "      <td>1.00000</td>\n",
       "    </tr>\n",
       "  </tbody>\n",
       "</table>\n",
       "</div>"
      ],
      "text/plain": [
       "            death_date      age\n",
       "death_date     1.00000 -0.46894\n",
       "age           -0.46894  1.00000"
      ]
     },
     "execution_count": 57,
     "metadata": {},
     "output_type": "execute_result"
    }
   ],
   "source": [
    "age_corr_data = pd.concat([data_copy['death_date'], data_copy['age']], axis=1)\n",
    "age_corr_data.corr()"
   ]
  },
  {
   "cell_type": "markdown",
   "metadata": {},
   "source": [
    "### 2. 인종과 사망률의 상관계수\n",
    "- 한 종만 있어서 비교대상에서 제외 (인종이 사망률에 영향을 주는지 확인하려면 여러 종의 데이터가 있어야 한다)"
   ]
  },
  {
   "cell_type": "code",
   "execution_count": 34,
   "metadata": {},
   "outputs": [
    {
     "data": {
      "text/plain": [
       "0    8206\n",
       "Name: ethnicity_concept_id, dtype: int64"
      ]
     },
     "execution_count": 34,
     "metadata": {},
     "output_type": "execute_result"
    }
   ],
   "source": [
    "data_copy['ethnicity_concept_id'].value_counts()"
   ]
  },
  {
   "cell_type": "markdown",
   "metadata": {},
   "source": [
    "### 3. 성별과 사망률의 상관계수\n",
    "- 8507: -0.092428\n",
    "- 8532: -0.092428"
   ]
  },
  {
   "cell_type": "code",
   "execution_count": 35,
   "metadata": {
    "scrolled": true
   },
   "outputs": [
    {
     "data": {
      "text/plain": [
       "8507    4888\n",
       "8532    3318\n",
       "Name: gender_concept_id, dtype: int64"
      ]
     },
     "execution_count": 35,
     "metadata": {},
     "output_type": "execute_result"
    }
   ],
   "source": [
    "data_copy['gender_concept_id'].value_counts()"
   ]
  },
  {
   "cell_type": "code",
   "execution_count": 59,
   "metadata": {},
   "outputs": [
    {
     "data": {
      "text/html": [
       "<div>\n",
       "<style scoped>\n",
       "    .dataframe tbody tr th:only-of-type {\n",
       "        vertical-align: middle;\n",
       "    }\n",
       "\n",
       "    .dataframe tbody tr th {\n",
       "        vertical-align: top;\n",
       "    }\n",
       "\n",
       "    .dataframe thead th {\n",
       "        text-align: right;\n",
       "    }\n",
       "</style>\n",
       "<table border=\"1\" class=\"dataframe\">\n",
       "  <thead>\n",
       "    <tr style=\"text-align: right;\">\n",
       "      <th></th>\n",
       "      <th>death_date</th>\n",
       "      <th>8507</th>\n",
       "      <th>8532</th>\n",
       "    </tr>\n",
       "  </thead>\n",
       "  <tbody>\n",
       "    <tr>\n",
       "      <th>death_date</th>\n",
       "      <td>1.0</td>\n",
       "      <td>-0.092428</td>\n",
       "      <td>0.092428</td>\n",
       "    </tr>\n",
       "  </tbody>\n",
       "</table>\n",
       "</div>"
      ],
      "text/plain": [
       "            death_date      8507      8532\n",
       "death_date         1.0 -0.092428  0.092428"
      ]
     },
     "execution_count": 59,
     "metadata": {},
     "output_type": "execute_result"
    }
   ],
   "source": [
    "# 성별 더미 변환\n",
    "gender_dummies = pd.get_dummies(data_copy['gender_concept_id'])\n",
    "gender_corr_data = pd.concat([data_copy['death_date'], gender_dummies], axis=1)\n",
    "gender_corr_data.corr().head(1)"
   ]
  },
  {
   "cell_type": "code",
   "execution_count": null,
   "metadata": {},
   "outputs": [],
   "source": [
    "# 상관계수 평균"
   ]
  },
  {
   "cell_type": "markdown",
   "metadata": {},
   "source": [
    "### 4. 입원/외래/응급과 사망률과의 상관계수\n",
    "- 입원: -0.129634\n",
    "- 외래: 0.111581\n",
    "- 응급: 0.017198"
   ]
  },
  {
   "cell_type": "code",
   "execution_count": 38,
   "metadata": {},
   "outputs": [
    {
     "data": {
      "text/plain": [
       "9202    4548\n",
       "9201    2709\n",
       "9203     949\n",
       "Name: visit_concept_id, dtype: int64"
      ]
     },
     "execution_count": 38,
     "metadata": {},
     "output_type": "execute_result"
    }
   ],
   "source": [
    "data_copy['visit_concept_id'].value_counts()"
   ]
  },
  {
   "cell_type": "code",
   "execution_count": 62,
   "metadata": {},
   "outputs": [
    {
     "data": {
      "text/html": [
       "<div>\n",
       "<style scoped>\n",
       "    .dataframe tbody tr th:only-of-type {\n",
       "        vertical-align: middle;\n",
       "    }\n",
       "\n",
       "    .dataframe tbody tr th {\n",
       "        vertical-align: top;\n",
       "    }\n",
       "\n",
       "    .dataframe thead th {\n",
       "        text-align: right;\n",
       "    }\n",
       "</style>\n",
       "<table border=\"1\" class=\"dataframe\">\n",
       "  <thead>\n",
       "    <tr style=\"text-align: right;\">\n",
       "      <th></th>\n",
       "      <th>death_date</th>\n",
       "      <th>9201</th>\n",
       "      <th>9202</th>\n",
       "      <th>9203</th>\n",
       "    </tr>\n",
       "  </thead>\n",
       "  <tbody>\n",
       "    <tr>\n",
       "      <th>8204</th>\n",
       "      <td>1</td>\n",
       "      <td>0</td>\n",
       "      <td>1</td>\n",
       "      <td>0</td>\n",
       "    </tr>\n",
       "    <tr>\n",
       "      <th>8205</th>\n",
       "      <td>1</td>\n",
       "      <td>0</td>\n",
       "      <td>1</td>\n",
       "      <td>0</td>\n",
       "    </tr>\n",
       "  </tbody>\n",
       "</table>\n",
       "</div>"
      ],
      "text/plain": [
       "      death_date  9201  9202  9203\n",
       "8204           1     0     1     0\n",
       "8205           1     0     1     0"
      ]
     },
     "execution_count": 62,
     "metadata": {},
     "output_type": "execute_result"
    }
   ],
   "source": [
    "# 더미 변환\n",
    "v_concept_dummies = pd.get_dummies(data_copy['visit_concept_id'])\n",
    "v_concept_corr_data = pd.concat([data_copy['death_date'], v_concept_dummies], axis=1)\n",
    "v_concept_corr_data.tail(2)"
   ]
  },
  {
   "cell_type": "code",
   "execution_count": 63,
   "metadata": {},
   "outputs": [
    {
     "data": {
      "text/html": [
       "<div>\n",
       "<style scoped>\n",
       "    .dataframe tbody tr th:only-of-type {\n",
       "        vertical-align: middle;\n",
       "    }\n",
       "\n",
       "    .dataframe tbody tr th {\n",
       "        vertical-align: top;\n",
       "    }\n",
       "\n",
       "    .dataframe thead th {\n",
       "        text-align: right;\n",
       "    }\n",
       "</style>\n",
       "<table border=\"1\" class=\"dataframe\">\n",
       "  <thead>\n",
       "    <tr style=\"text-align: right;\">\n",
       "      <th></th>\n",
       "      <th>death_date</th>\n",
       "      <th>9201</th>\n",
       "      <th>9202</th>\n",
       "      <th>9203</th>\n",
       "    </tr>\n",
       "  </thead>\n",
       "  <tbody>\n",
       "    <tr>\n",
       "      <th>death_date</th>\n",
       "      <td>1.0</td>\n",
       "      <td>-0.129634</td>\n",
       "      <td>0.111581</td>\n",
       "      <td>0.017198</td>\n",
       "    </tr>\n",
       "  </tbody>\n",
       "</table>\n",
       "</div>"
      ],
      "text/plain": [
       "            death_date      9201      9202      9203\n",
       "death_date         1.0 -0.129634  0.111581  0.017198"
      ]
     },
     "execution_count": 63,
     "metadata": {},
     "output_type": "execute_result"
    }
   ],
   "source": [
    "v_concept_corr_data.corr().head(1)"
   ]
  },
  {
   "cell_type": "markdown",
   "metadata": {},
   "source": [
    "### 5. 내원일수와 사망률의 상관계수\n",
    "- 연속형 변수로 바라보고 더미 변환하지 않음\n",
    "- 내원일수: -0.05147"
   ]
  },
  {
   "cell_type": "code",
   "execution_count": 67,
   "metadata": {},
   "outputs": [
    {
     "data": {
      "text/plain": [
       "0 days      5249\n",
       "10 days      406\n",
       "9 days       382\n",
       "1 days       335\n",
       "13 days      320\n",
       "11 days      206\n",
       "12 days      202\n",
       "8 days       197\n",
       "18 days      195\n",
       "14 days      149\n",
       "16 days      130\n",
       "15 days      109\n",
       "5 days        74\n",
       "6 days        70\n",
       "19 days       38\n",
       "3 days        31\n",
       "4 days        26\n",
       "22 days       25\n",
       "17 days       24\n",
       "7 days        15\n",
       "20 days       15\n",
       "345 days       3\n",
       "370 days       2\n",
       "62 days        2\n",
       "24 days        1\n",
       "Name: visit, dtype: int64"
      ]
     },
     "execution_count": 67,
     "metadata": {},
     "output_type": "execute_result"
    }
   ],
   "source": [
    "data_copy['visit'].value_counts()"
   ]
  },
  {
   "cell_type": "code",
   "execution_count": 70,
   "metadata": {
    "scrolled": true
   },
   "outputs": [
    {
     "data": {
      "text/html": [
       "<div>\n",
       "<style scoped>\n",
       "    .dataframe tbody tr th:only-of-type {\n",
       "        vertical-align: middle;\n",
       "    }\n",
       "\n",
       "    .dataframe tbody tr th {\n",
       "        vertical-align: top;\n",
       "    }\n",
       "\n",
       "    .dataframe thead th {\n",
       "        text-align: right;\n",
       "    }\n",
       "</style>\n",
       "<table border=\"1\" class=\"dataframe\">\n",
       "  <thead>\n",
       "    <tr style=\"text-align: right;\">\n",
       "      <th></th>\n",
       "      <th>death_date</th>\n",
       "      <th>visit</th>\n",
       "    </tr>\n",
       "  </thead>\n",
       "  <tbody>\n",
       "    <tr>\n",
       "      <th>8204</th>\n",
       "      <td>1</td>\n",
       "      <td>0</td>\n",
       "    </tr>\n",
       "    <tr>\n",
       "      <th>8205</th>\n",
       "      <td>1</td>\n",
       "      <td>0</td>\n",
       "    </tr>\n",
       "  </tbody>\n",
       "</table>\n",
       "</div>"
      ],
      "text/plain": [
       "      death_date  visit\n",
       "8204           1      0\n",
       "8205           1      0"
      ]
     },
     "execution_count": 70,
     "metadata": {},
     "output_type": "execute_result"
    }
   ],
   "source": [
    "v_visit_corr_data = pd.concat([data_copy['death_date'], data_copy['visit']], axis=1)\n",
    "v_visit_corr_data = v_visit_corr_data.astype(int)\n",
    "v_visit_corr_data.tail(2)"
   ]
  },
  {
   "cell_type": "code",
   "execution_count": 71,
   "metadata": {},
   "outputs": [
    {
     "data": {
      "text/html": [
       "<div>\n",
       "<style scoped>\n",
       "    .dataframe tbody tr th:only-of-type {\n",
       "        vertical-align: middle;\n",
       "    }\n",
       "\n",
       "    .dataframe tbody tr th {\n",
       "        vertical-align: top;\n",
       "    }\n",
       "\n",
       "    .dataframe thead th {\n",
       "        text-align: right;\n",
       "    }\n",
       "</style>\n",
       "<table border=\"1\" class=\"dataframe\">\n",
       "  <thead>\n",
       "    <tr style=\"text-align: right;\">\n",
       "      <th></th>\n",
       "      <th>death_date</th>\n",
       "      <th>visit</th>\n",
       "    </tr>\n",
       "  </thead>\n",
       "  <tbody>\n",
       "    <tr>\n",
       "      <th>death_date</th>\n",
       "      <td>1.0</td>\n",
       "      <td>-0.05147</td>\n",
       "    </tr>\n",
       "  </tbody>\n",
       "</table>\n",
       "</div>"
      ],
      "text/plain": [
       "            death_date    visit\n",
       "death_date         1.0 -0.05147"
      ]
     },
     "execution_count": 71,
     "metadata": {},
     "output_type": "execute_result"
    }
   ],
   "source": [
    "v_visit_corr_data.corr().head(1)"
   ]
  },
  {
   "cell_type": "markdown",
   "metadata": {},
   "source": [
    "### 6. 진단과 사망률과의 상관계수\n",
    "- condition_concept_id: 0.007726 (상관계수 평균)\n",
    "- condition_source_value: 0.006643 (상관계수 평균)"
   ]
  },
  {
   "cell_type": "code",
   "execution_count": 59,
   "metadata": {},
   "outputs": [
    {
     "data": {
      "text/plain": [
       "0           1332\n",
       "40481087    1051\n",
       "37311061     710\n",
       "437663       649\n",
       "4112343      569\n",
       "            ... \n",
       "43530685       2\n",
       "4282096        1\n",
       "198809         1\n",
       "436676         1\n",
       "196456         1\n",
       "Name: condition_concept_id, Length: 151, dtype: int64"
      ]
     },
     "execution_count": 59,
     "metadata": {},
     "output_type": "execute_result"
    }
   ],
   "source": [
    "condition_occurrences['condition_concept_id'].value_counts()"
   ]
  },
  {
   "cell_type": "code",
   "execution_count": 60,
   "metadata": {},
   "outputs": [
    {
     "data": {
      "text/plain": [
       "444814009    1051\n",
       "840544004     737\n",
       "840539006     710\n",
       "386661006     649\n",
       "195662009     569\n",
       "             ... \n",
       "235919008       1\n",
       "36923009        1\n",
       "65275009        1\n",
       "47505003        1\n",
       "48333001        1\n",
       "Name: condition_source_value, Length: 160, dtype: int64"
      ]
     },
     "execution_count": 60,
     "metadata": {},
     "output_type": "execute_result"
    }
   ],
   "source": [
    "condition_occurrences['condition_source_value'].value_counts()"
   ]
  },
  {
   "cell_type": "code",
   "execution_count": 72,
   "metadata": {},
   "outputs": [
    {
     "data": {
      "text/html": [
       "<div>\n",
       "<style scoped>\n",
       "    .dataframe tbody tr th:only-of-type {\n",
       "        vertical-align: middle;\n",
       "    }\n",
       "\n",
       "    .dataframe tbody tr th {\n",
       "        vertical-align: top;\n",
       "    }\n",
       "\n",
       "    .dataframe thead th {\n",
       "        text-align: right;\n",
       "    }\n",
       "</style>\n",
       "<table border=\"1\" class=\"dataframe\">\n",
       "  <thead>\n",
       "    <tr style=\"text-align: right;\">\n",
       "      <th></th>\n",
       "      <th>death_date</th>\n",
       "      <th>0</th>\n",
       "      <th>28060</th>\n",
       "      <th>31967</th>\n",
       "      <th>75036</th>\n",
       "      <th>77074</th>\n",
       "      <th>78272</th>\n",
       "      <th>80502</th>\n",
       "      <th>81151</th>\n",
       "      <th>192279</th>\n",
       "      <th>...</th>\n",
       "      <th>40480160</th>\n",
       "      <th>40481087</th>\n",
       "      <th>40486433</th>\n",
       "      <th>43530652</th>\n",
       "      <th>43530656</th>\n",
       "      <th>43530685</th>\n",
       "      <th>44782746</th>\n",
       "      <th>45768439</th>\n",
       "      <th>45769905</th>\n",
       "      <th>45770830</th>\n",
       "    </tr>\n",
       "  </thead>\n",
       "  <tbody>\n",
       "    <tr>\n",
       "      <th>8204</th>\n",
       "      <td>1</td>\n",
       "      <td>0</td>\n",
       "      <td>0</td>\n",
       "      <td>0</td>\n",
       "      <td>0</td>\n",
       "      <td>0</td>\n",
       "      <td>0</td>\n",
       "      <td>0</td>\n",
       "      <td>0</td>\n",
       "      <td>0</td>\n",
       "      <td>...</td>\n",
       "      <td>0</td>\n",
       "      <td>0</td>\n",
       "      <td>0</td>\n",
       "      <td>0</td>\n",
       "      <td>0</td>\n",
       "      <td>0</td>\n",
       "      <td>0</td>\n",
       "      <td>0</td>\n",
       "      <td>0</td>\n",
       "      <td>0</td>\n",
       "    </tr>\n",
       "    <tr>\n",
       "      <th>8205</th>\n",
       "      <td>1</td>\n",
       "      <td>0</td>\n",
       "      <td>0</td>\n",
       "      <td>0</td>\n",
       "      <td>0</td>\n",
       "      <td>0</td>\n",
       "      <td>0</td>\n",
       "      <td>0</td>\n",
       "      <td>0</td>\n",
       "      <td>0</td>\n",
       "      <td>...</td>\n",
       "      <td>0</td>\n",
       "      <td>0</td>\n",
       "      <td>0</td>\n",
       "      <td>0</td>\n",
       "      <td>0</td>\n",
       "      <td>0</td>\n",
       "      <td>0</td>\n",
       "      <td>0</td>\n",
       "      <td>0</td>\n",
       "      <td>0</td>\n",
       "    </tr>\n",
       "  </tbody>\n",
       "</table>\n",
       "<p>2 rows × 126 columns</p>\n",
       "</div>"
      ],
      "text/plain": [
       "      death_date  0  28060  31967  75036  77074  78272  80502  81151  192279  \\\n",
       "8204           1  0      0      0      0      0      0      0      0       0   \n",
       "8205           1  0      0      0      0      0      0      0      0       0   \n",
       "\n",
       "      ...  40480160  40481087  40486433  43530652  43530656  43530685  \\\n",
       "8204  ...         0         0         0         0         0         0   \n",
       "8205  ...         0         0         0         0         0         0   \n",
       "\n",
       "      44782746  45768439  45769905  45770830  \n",
       "8204         0         0         0         0  \n",
       "8205         0         0         0         0  \n",
       "\n",
       "[2 rows x 126 columns]"
      ]
     },
     "execution_count": 72,
     "metadata": {},
     "output_type": "execute_result"
    }
   ],
   "source": [
    "# 더미 변환\n",
    "c_concept_dummies = pd.get_dummies(data_copy['condition_concept_id'])\n",
    "c_concept_corr_data = pd.concat([data_copy['death_date'], c_concept_dummies], axis=1)\n",
    "c_concept_corr_data.tail(2)"
   ]
  },
  {
   "cell_type": "code",
   "execution_count": 75,
   "metadata": {},
   "outputs": [
    {
     "data": {
      "text/html": [
       "<div>\n",
       "<style scoped>\n",
       "    .dataframe tbody tr th:only-of-type {\n",
       "        vertical-align: middle;\n",
       "    }\n",
       "\n",
       "    .dataframe tbody tr th {\n",
       "        vertical-align: top;\n",
       "    }\n",
       "\n",
       "    .dataframe thead th {\n",
       "        text-align: right;\n",
       "    }\n",
       "</style>\n",
       "<table border=\"1\" class=\"dataframe\">\n",
       "  <thead>\n",
       "    <tr style=\"text-align: right;\">\n",
       "      <th></th>\n",
       "      <th>death_date</th>\n",
       "      <th>0</th>\n",
       "      <th>28060</th>\n",
       "      <th>31967</th>\n",
       "      <th>75036</th>\n",
       "      <th>77074</th>\n",
       "      <th>78272</th>\n",
       "      <th>80502</th>\n",
       "      <th>81151</th>\n",
       "      <th>192279</th>\n",
       "      <th>...</th>\n",
       "      <th>40480160</th>\n",
       "      <th>40481087</th>\n",
       "      <th>40486433</th>\n",
       "      <th>43530652</th>\n",
       "      <th>43530656</th>\n",
       "      <th>43530685</th>\n",
       "      <th>44782746</th>\n",
       "      <th>45768439</th>\n",
       "      <th>45769905</th>\n",
       "      <th>45770830</th>\n",
       "    </tr>\n",
       "  </thead>\n",
       "  <tbody>\n",
       "    <tr>\n",
       "      <th>death_date</th>\n",
       "      <td>1.0</td>\n",
       "      <td>-0.007561</td>\n",
       "      <td>0.050908</td>\n",
       "      <td>0.007881</td>\n",
       "      <td>0.009853</td>\n",
       "      <td>0.007881</td>\n",
       "      <td>0.021344</td>\n",
       "      <td>0.01382</td>\n",
       "      <td>0.057838</td>\n",
       "      <td>-0.016539</td>\n",
       "      <td>...</td>\n",
       "      <td>0.002342</td>\n",
       "      <td>0.062329</td>\n",
       "      <td>0.012031</td>\n",
       "      <td>0.012066</td>\n",
       "      <td>0.007579</td>\n",
       "      <td>0.013651</td>\n",
       "      <td>0.010574</td>\n",
       "      <td>-0.019795</td>\n",
       "      <td>-0.01331</td>\n",
       "      <td>0.015521</td>\n",
       "    </tr>\n",
       "  </tbody>\n",
       "</table>\n",
       "<p>1 rows × 126 columns</p>\n",
       "</div>"
      ],
      "text/plain": [
       "            death_date         0     28060     31967     75036     77074  \\\n",
       "death_date         1.0 -0.007561  0.050908  0.007881  0.009853  0.007881   \n",
       "\n",
       "               78272    80502     81151    192279  ...  40480160  40481087  \\\n",
       "death_date  0.021344  0.01382  0.057838 -0.016539  ...  0.002342  0.062329   \n",
       "\n",
       "            40486433  43530652  43530656  43530685  44782746  45768439  \\\n",
       "death_date  0.012031  0.012066  0.007579  0.013651  0.010574 -0.019795   \n",
       "\n",
       "            45769905  45770830  \n",
       "death_date  -0.01331  0.015521  \n",
       "\n",
       "[1 rows x 126 columns]"
      ]
     },
     "execution_count": 75,
     "metadata": {},
     "output_type": "execute_result"
    }
   ],
   "source": [
    "c_concept_corr = c_concept_corr_data.corr().head(1)\n",
    "c_concept_corr"
   ]
  },
  {
   "cell_type": "code",
   "execution_count": 78,
   "metadata": {},
   "outputs": [
    {
     "data": {
      "text/plain": [
       "death_date    0.007726\n",
       "dtype: float64"
      ]
     },
     "execution_count": 78,
     "metadata": {},
     "output_type": "execute_result"
    }
   ],
   "source": [
    "c_concept_corr.drop('death_date')\n",
    "c_concept_corr.mean(axis=1)"
   ]
  },
  {
   "cell_type": "code",
   "execution_count": 80,
   "metadata": {},
   "outputs": [
    {
     "data": {
      "text/html": [
       "<div>\n",
       "<style scoped>\n",
       "    .dataframe tbody tr th:only-of-type {\n",
       "        vertical-align: middle;\n",
       "    }\n",
       "\n",
       "    .dataframe tbody tr th {\n",
       "        vertical-align: top;\n",
       "    }\n",
       "\n",
       "    .dataframe thead th {\n",
       "        text-align: right;\n",
       "    }\n",
       "</style>\n",
       "<table border=\"1\" class=\"dataframe\">\n",
       "  <thead>\n",
       "    <tr style=\"text-align: right;\">\n",
       "      <th></th>\n",
       "      <th>death_date</th>\n",
       "      <th>5602001</th>\n",
       "      <th>7200002</th>\n",
       "      <th>10509002</th>\n",
       "      <th>15777000</th>\n",
       "      <th>16114001</th>\n",
       "      <th>19169002</th>\n",
       "      <th>22298006</th>\n",
       "      <th>26929004</th>\n",
       "      <th>30832001</th>\n",
       "      <th>...</th>\n",
       "      <th>770349000</th>\n",
       "      <th>840539006</th>\n",
       "      <th>840544004</th>\n",
       "      <th>1501000119109</th>\n",
       "      <th>1551000119108</th>\n",
       "      <th>90781000119102</th>\n",
       "      <th>97331000119101</th>\n",
       "      <th>124171000119105</th>\n",
       "      <th>132281000119108</th>\n",
       "      <th>368581000119106</th>\n",
       "    </tr>\n",
       "  </thead>\n",
       "  <tbody>\n",
       "    <tr>\n",
       "      <th>8204</th>\n",
       "      <td>1</td>\n",
       "      <td>0</td>\n",
       "      <td>0</td>\n",
       "      <td>0</td>\n",
       "      <td>0</td>\n",
       "      <td>0</td>\n",
       "      <td>0</td>\n",
       "      <td>0</td>\n",
       "      <td>0</td>\n",
       "      <td>0</td>\n",
       "      <td>...</td>\n",
       "      <td>0</td>\n",
       "      <td>0</td>\n",
       "      <td>0</td>\n",
       "      <td>0</td>\n",
       "      <td>0</td>\n",
       "      <td>0</td>\n",
       "      <td>0</td>\n",
       "      <td>0</td>\n",
       "      <td>0</td>\n",
       "      <td>0</td>\n",
       "    </tr>\n",
       "    <tr>\n",
       "      <th>8205</th>\n",
       "      <td>1</td>\n",
       "      <td>0</td>\n",
       "      <td>0</td>\n",
       "      <td>1</td>\n",
       "      <td>0</td>\n",
       "      <td>0</td>\n",
       "      <td>0</td>\n",
       "      <td>0</td>\n",
       "      <td>0</td>\n",
       "      <td>0</td>\n",
       "      <td>...</td>\n",
       "      <td>0</td>\n",
       "      <td>0</td>\n",
       "      <td>0</td>\n",
       "      <td>0</td>\n",
       "      <td>0</td>\n",
       "      <td>0</td>\n",
       "      <td>0</td>\n",
       "      <td>0</td>\n",
       "      <td>0</td>\n",
       "      <td>0</td>\n",
       "    </tr>\n",
       "  </tbody>\n",
       "</table>\n",
       "<p>2 rows × 132 columns</p>\n",
       "</div>"
      ],
      "text/plain": [
       "      death_date  5602001  7200002  10509002  15777000  16114001  19169002  \\\n",
       "8204           1        0        0         0         0         0         0   \n",
       "8205           1        0        0         1         0         0         0   \n",
       "\n",
       "      22298006  26929004  30832001  ...  770349000  840539006  840544004  \\\n",
       "8204         0         0         0  ...          0          0          0   \n",
       "8205         0         0         0  ...          0          0          0   \n",
       "\n",
       "      1501000119109  1551000119108  90781000119102  97331000119101  \\\n",
       "8204              0              0               0               0   \n",
       "8205              0              0               0               0   \n",
       "\n",
       "      124171000119105  132281000119108  368581000119106  \n",
       "8204                0                0                0  \n",
       "8205                0                0                0  \n",
       "\n",
       "[2 rows x 132 columns]"
      ]
     },
     "execution_count": 80,
     "metadata": {},
     "output_type": "execute_result"
    }
   ],
   "source": [
    "# 더미 변환\n",
    "c_source_dummies = pd.get_dummies(data_copy['condition_source_value'])\n",
    "c_source_corr_data = pd.concat([data_copy['death_date'], c_source_dummies], axis=1)\n",
    "c_source_corr_data.tail(2)"
   ]
  },
  {
   "cell_type": "code",
   "execution_count": 81,
   "metadata": {},
   "outputs": [
    {
     "data": {
      "text/plain": [
       "death_date    0.006643\n",
       "dtype: float64"
      ]
     },
     "execution_count": 81,
     "metadata": {},
     "output_type": "execute_result"
    }
   ],
   "source": [
    "c_source_corr = c_source_corr_data.corr().head(1)\n",
    "c_source_corr.drop('death_date')\n",
    "c_source_corr.mean(axis=1)"
   ]
  },
  {
   "cell_type": "markdown",
   "metadata": {},
   "source": [
    "### 7. 의약품과 사망률의 상관계수\n",
    "- drug_concept_id: 0.005741 (상관계수 평균)\n",
    "- drug_source_value: 0.005741 (상관계수 평균)"
   ]
  },
  {
   "cell_type": "code",
   "execution_count": 82,
   "metadata": {},
   "outputs": [
    {
     "data": {
      "text/plain": [
       "40213154    8015\n",
       "19078106    3669\n",
       "19009384    2825\n",
       "40224172    2814\n",
       "19127663    2729\n",
       "            ... \n",
       "35605380       1\n",
       "43012036       1\n",
       "46275507       1\n",
       "19078924       1\n",
       "19079524       1\n",
       "Name: drug_concept_id, Length: 164, dtype: int64"
      ]
     },
     "execution_count": 82,
     "metadata": {},
     "output_type": "execute_result"
    }
   ],
   "source": [
    "drug_exposures['drug_concept_id'].value_counts()"
   ]
  },
  {
   "cell_type": "code",
   "execution_count": 83,
   "metadata": {},
   "outputs": [
    {
     "data": {
      "text/plain": [
       "140        8015\n",
       "310798     3669\n",
       "106892     2825\n",
       "999967     2814\n",
       "746030     2729\n",
       "           ... \n",
       "1363309       1\n",
       "1657981       1\n",
       "727762        1\n",
       "1234995       1\n",
       "1659263       1\n",
       "Name: drug_source_value, Length: 164, dtype: int64"
      ]
     },
     "execution_count": 83,
     "metadata": {},
     "output_type": "execute_result"
    }
   ],
   "source": [
    "drug_exposures['drug_source_value'].value_counts()"
   ]
  },
  {
   "cell_type": "code",
   "execution_count": 84,
   "metadata": {},
   "outputs": [
    {
     "data": {
      "text/html": [
       "<div>\n",
       "<style scoped>\n",
       "    .dataframe tbody tr th:only-of-type {\n",
       "        vertical-align: middle;\n",
       "    }\n",
       "\n",
       "    .dataframe tbody tr th {\n",
       "        vertical-align: top;\n",
       "    }\n",
       "\n",
       "    .dataframe thead th {\n",
       "        text-align: right;\n",
       "    }\n",
       "</style>\n",
       "<table border=\"1\" class=\"dataframe\">\n",
       "  <thead>\n",
       "    <tr style=\"text-align: right;\">\n",
       "      <th></th>\n",
       "      <th>death_date</th>\n",
       "      <th>723042</th>\n",
       "      <th>782047</th>\n",
       "      <th>836659</th>\n",
       "      <th>920300</th>\n",
       "      <th>964261</th>\n",
       "      <th>1101556</th>\n",
       "      <th>1114379</th>\n",
       "      <th>1115171</th>\n",
       "      <th>1127433</th>\n",
       "      <th>...</th>\n",
       "      <th>40232448</th>\n",
       "      <th>40236824</th>\n",
       "      <th>40241958</th>\n",
       "      <th>40243436</th>\n",
       "      <th>42629347</th>\n",
       "      <th>42707627</th>\n",
       "      <th>46275123</th>\n",
       "      <th>46275444</th>\n",
       "      <th>46275507</th>\n",
       "      <th>46275916</th>\n",
       "    </tr>\n",
       "  </thead>\n",
       "  <tbody>\n",
       "    <tr>\n",
       "      <th>8204</th>\n",
       "      <td>1</td>\n",
       "      <td>0</td>\n",
       "      <td>0</td>\n",
       "      <td>0</td>\n",
       "      <td>0</td>\n",
       "      <td>0</td>\n",
       "      <td>0</td>\n",
       "      <td>0</td>\n",
       "      <td>0</td>\n",
       "      <td>0</td>\n",
       "      <td>...</td>\n",
       "      <td>0</td>\n",
       "      <td>0</td>\n",
       "      <td>0</td>\n",
       "      <td>0</td>\n",
       "      <td>0</td>\n",
       "      <td>0</td>\n",
       "      <td>0</td>\n",
       "      <td>0</td>\n",
       "      <td>0</td>\n",
       "      <td>0</td>\n",
       "    </tr>\n",
       "    <tr>\n",
       "      <th>8205</th>\n",
       "      <td>1</td>\n",
       "      <td>0</td>\n",
       "      <td>0</td>\n",
       "      <td>0</td>\n",
       "      <td>0</td>\n",
       "      <td>0</td>\n",
       "      <td>0</td>\n",
       "      <td>0</td>\n",
       "      <td>0</td>\n",
       "      <td>1</td>\n",
       "      <td>...</td>\n",
       "      <td>0</td>\n",
       "      <td>0</td>\n",
       "      <td>0</td>\n",
       "      <td>0</td>\n",
       "      <td>0</td>\n",
       "      <td>0</td>\n",
       "      <td>0</td>\n",
       "      <td>0</td>\n",
       "      <td>0</td>\n",
       "      <td>0</td>\n",
       "    </tr>\n",
       "  </tbody>\n",
       "</table>\n",
       "<p>2 rows × 116 columns</p>\n",
       "</div>"
      ],
      "text/plain": [
       "      death_date  723042  782047  836659  920300  964261  1101556  1114379  \\\n",
       "8204           1       0       0       0       0       0        0        0   \n",
       "8205           1       0       0       0       0       0        0        0   \n",
       "\n",
       "      1115171  1127433  ...  40232448  40236824  40241958  40243436  42629347  \\\n",
       "8204        0        0  ...         0         0         0         0         0   \n",
       "8205        0        1  ...         0         0         0         0         0   \n",
       "\n",
       "      42707627  46275123  46275444  46275507  46275916  \n",
       "8204         0         0         0         0         0  \n",
       "8205         0         0         0         0         0  \n",
       "\n",
       "[2 rows x 116 columns]"
      ]
     },
     "execution_count": 84,
     "metadata": {},
     "output_type": "execute_result"
    }
   ],
   "source": [
    "# 더미 변환\n",
    "d_concept_dummies = pd.get_dummies(data_copy['drug_concept_id'])\n",
    "d_concept_corr_data = pd.concat([data_copy['death_date'], d_concept_dummies], axis=1)\n",
    "d_concept_corr_data.tail(2)"
   ]
  },
  {
   "cell_type": "code",
   "execution_count": 85,
   "metadata": {},
   "outputs": [
    {
     "data": {
      "text/plain": [
       "death_date    0.005741\n",
       "dtype: float64"
      ]
     },
     "execution_count": 85,
     "metadata": {},
     "output_type": "execute_result"
    }
   ],
   "source": [
    "d_concept_corr = d_concept_corr_data.corr().head(1)\n",
    "d_concept_corr.mean(axis=1)"
   ]
  },
  {
   "cell_type": "code",
   "execution_count": 86,
   "metadata": {},
   "outputs": [
    {
     "data": {
      "text/html": [
       "<div>\n",
       "<style scoped>\n",
       "    .dataframe tbody tr th:only-of-type {\n",
       "        vertical-align: middle;\n",
       "    }\n",
       "\n",
       "    .dataframe tbody tr th {\n",
       "        vertical-align: top;\n",
       "    }\n",
       "\n",
       "    .dataframe thead th {\n",
       "        text-align: right;\n",
       "    }\n",
       "</style>\n",
       "<table border=\"1\" class=\"dataframe\">\n",
       "  <thead>\n",
       "    <tr style=\"text-align: right;\">\n",
       "      <th></th>\n",
       "      <th>death_date</th>\n",
       "      <th>3</th>\n",
       "      <th>10</th>\n",
       "      <th>20</th>\n",
       "      <th>21</th>\n",
       "      <th>33</th>\n",
       "      <th>43</th>\n",
       "      <th>49</th>\n",
       "      <th>52</th>\n",
       "      <th>113</th>\n",
       "      <th>...</th>\n",
       "      <th>1790099</th>\n",
       "      <th>1804799</th>\n",
       "      <th>1807513</th>\n",
       "      <th>1808217</th>\n",
       "      <th>1860154</th>\n",
       "      <th>1860480</th>\n",
       "      <th>2001499</th>\n",
       "      <th>2047241</th>\n",
       "      <th>2103182</th>\n",
       "      <th>2123111</th>\n",
       "    </tr>\n",
       "  </thead>\n",
       "  <tbody>\n",
       "    <tr>\n",
       "      <th>8204</th>\n",
       "      <td>1</td>\n",
       "      <td>0</td>\n",
       "      <td>0</td>\n",
       "      <td>0</td>\n",
       "      <td>0</td>\n",
       "      <td>0</td>\n",
       "      <td>0</td>\n",
       "      <td>0</td>\n",
       "      <td>0</td>\n",
       "      <td>0</td>\n",
       "      <td>...</td>\n",
       "      <td>0</td>\n",
       "      <td>0</td>\n",
       "      <td>0</td>\n",
       "      <td>0</td>\n",
       "      <td>0</td>\n",
       "      <td>0</td>\n",
       "      <td>0</td>\n",
       "      <td>0</td>\n",
       "      <td>0</td>\n",
       "      <td>0</td>\n",
       "    </tr>\n",
       "    <tr>\n",
       "      <th>8205</th>\n",
       "      <td>1</td>\n",
       "      <td>0</td>\n",
       "      <td>0</td>\n",
       "      <td>0</td>\n",
       "      <td>0</td>\n",
       "      <td>0</td>\n",
       "      <td>0</td>\n",
       "      <td>0</td>\n",
       "      <td>0</td>\n",
       "      <td>0</td>\n",
       "      <td>...</td>\n",
       "      <td>0</td>\n",
       "      <td>0</td>\n",
       "      <td>0</td>\n",
       "      <td>0</td>\n",
       "      <td>0</td>\n",
       "      <td>0</td>\n",
       "      <td>0</td>\n",
       "      <td>0</td>\n",
       "      <td>0</td>\n",
       "      <td>0</td>\n",
       "    </tr>\n",
       "  </tbody>\n",
       "</table>\n",
       "<p>2 rows × 116 columns</p>\n",
       "</div>"
      ],
      "text/plain": [
       "      death_date  3  10  20  21  33  43  49  52  113  ...  1790099  1804799  \\\n",
       "8204           1  0   0   0   0   0   0   0   0    0  ...        0        0   \n",
       "8205           1  0   0   0   0   0   0   0   0    0  ...        0        0   \n",
       "\n",
       "      1807513  1808217  1860154  1860480  2001499  2047241  2103182  2123111  \n",
       "8204        0        0        0        0        0        0        0        0  \n",
       "8205        0        0        0        0        0        0        0        0  \n",
       "\n",
       "[2 rows x 116 columns]"
      ]
     },
     "execution_count": 86,
     "metadata": {},
     "output_type": "execute_result"
    }
   ],
   "source": [
    "# 더미 변환\n",
    "d_source_dummies = pd.get_dummies(data_copy['drug_source_value'])\n",
    "d_source_corr_data = pd.concat([data_copy['death_date'], d_source_dummies], axis=1)\n",
    "d_source_corr_data.tail(2)"
   ]
  },
  {
   "cell_type": "code",
   "execution_count": 87,
   "metadata": {},
   "outputs": [
    {
     "data": {
      "text/plain": [
       "death_date    0.005741\n",
       "dtype: float64"
      ]
     },
     "execution_count": 87,
     "metadata": {},
     "output_type": "execute_result"
    }
   ],
   "source": [
    "d_source_corr = d_source_corr_data.corr().head(1)\n",
    "d_source_corr.mean(axis=1)"
   ]
  },
  {
   "cell_type": "markdown",
   "metadata": {},
   "source": [
    "## 결론"
   ]
  },
  {
   "cell_type": "markdown",
   "metadata": {},
   "source": [
    "- 연관성이 높은 순서\n",
    "1. person-나이 (상관계수 절대값: 0.46894)\n",
    "2. person-입원 (상관계수 절대값 0.129634)\n",
    "3. visit_occurrence-외래 (상관계수 절대값 0.111581)\n",
    "4. person-성별 (상관계수 절대값 0.092428)\n",
    "5. visit_occurrence-내원일수 (상관계수 절대값 0.05147)\n",
    "6. visit_occurrence-응급 (상관계수 절대값: 0.017198)\n",
    "7. condition_occurrence-진단\n",
    "    - condition_concept_id: 0.007726 (상관계수 평균)\n",
    "    - condition_source_value: 0.006643 (상관계수 평균)\n",
    "8. drug_exposure-의약품\n",
    "    - drug_concept_id: 0.005741 (상관계수 평균)\n",
    "    - drug_source_value: 0.005741 (상관계수 평균)\n",
    "9. 판단에서 제외: 인종 (현재 데이터에 인종이 한 종류만 있어서 비교대상에서 제외)"
   ]
  },
  {
   "cell_type": "code",
   "execution_count": null,
   "metadata": {},
   "outputs": [],
   "source": []
  }
 ],
 "metadata": {
  "kernelspec": {
   "display_name": "Python 3",
   "language": "python",
   "name": "python3"
  },
  "language_info": {
   "codemirror_mode": {
    "name": "ipython",
    "version": 3
   },
   "file_extension": ".py",
   "mimetype": "text/x-python",
   "name": "python",
   "nbconvert_exporter": "python",
   "pygments_lexer": "ipython3",
   "version": "3.8.6"
  }
 },
 "nbformat": 4,
 "nbformat_minor": 4
}
