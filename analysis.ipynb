{
 "cells": [
  {
   "cell_type": "markdown",
   "metadata": {},
   "source": [
    "## IMPORT"
   ]
  },
  {
   "cell_type": "code",
   "execution_count": 1,
   "metadata": {},
   "outputs": [],
   "source": [
    "import psycopg2 as pg\n",
    "import pandas.io.sql as psql\n",
    "import pandas as pd\n",
    "\n",
    "from os import getenv, listdir\n",
    "from os.path import isfile, join\n",
    "\n",
    "from dotenv import load_dotenv\n",
    "import datetime\n",
    "from datetime import date"
   ]
  },
  {
   "cell_type": "markdown",
   "metadata": {},
   "source": [
    "## DB 정보 로딩"
   ]
  },
  {
   "cell_type": "code",
   "execution_count": 2,
   "metadata": {},
   "outputs": [],
   "source": [
    "load_dotenv(dotenv_path = 'insert_data/db_info.env')\n",
    "\n",
    "DB_HOST = getenv('DB_HOST', None)\n",
    "DB_PORT = getenv('DB_PORT', 5432)\n",
    "DB_USER = getenv('DB_USER', None)\n",
    "DB_PASS = getenv('DB_PASS', None)\n",
    "DB_NAME = getenv('DB_NAME', None)\n",
    "\n",
    "conn_string = f\"host='{DB_HOST}' dbname='{DB_NAME}' user='{DB_USER}' password='{DB_PASS}' port={DB_PORT}\"\n",
    "conn = pg.connect(conn_string)"
   ]
  },
  {
   "cell_type": "markdown",
   "metadata": {},
   "source": [
    "## DATA LOAD"
   ]
  },
  {
   "cell_type": "code",
   "execution_count": 3,
   "metadata": {},
   "outputs": [],
   "source": [
    "def select_all(table_name: str):\n",
    "    return eval(f\"psql.read_sql('SELECT * FROM {table_name}', conn)\")"
   ]
  },
  {
   "cell_type": "code",
   "execution_count": 4,
   "metadata": {},
   "outputs": [],
   "source": [
    "person_data = select_all(table_name=\"person\") # 환자에 대한 정보\n",
    "death_data = select_all(table_name=\"death\") # 환자의 사망 정보 \n",
    "visit_occurrence_data = select_all(table_name=\"visit_occurrence\") # 방문에 대한 정보\n",
    "condition_occurrence_data = select_all(table_name=\"condition_occurrence\") # 병명에 대한 정보\n",
    "drug_exposure_data = select_all(table_name=\"drug_exposure\") # 의약품 처방 정보"
   ]
  },
  {
   "cell_type": "markdown",
   "metadata": {},
   "source": [
    "## 과제 문서에 언급된 column만 선정하여 데이터를 재가공"
   ]
  },
  {
   "cell_type": "code",
   "execution_count": 5,
   "metadata": {
    "scrolled": true
   },
   "outputs": [
    {
     "data": {
      "text/html": [
       "<div>\n",
       "<style scoped>\n",
       "    .dataframe tbody tr th:only-of-type {\n",
       "        vertical-align: middle;\n",
       "    }\n",
       "\n",
       "    .dataframe tbody tr th {\n",
       "        vertical-align: top;\n",
       "    }\n",
       "\n",
       "    .dataframe thead th {\n",
       "        text-align: right;\n",
       "    }\n",
       "</style>\n",
       "<table border=\"1\" class=\"dataframe\">\n",
       "  <thead>\n",
       "    <tr style=\"text-align: right;\">\n",
       "      <th></th>\n",
       "      <th>person_id</th>\n",
       "      <th>gender_concept_id</th>\n",
       "      <th>ethnicity_concept_id</th>\n",
       "      <th>year_of_birth</th>\n",
       "    </tr>\n",
       "  </thead>\n",
       "  <tbody>\n",
       "    <tr>\n",
       "      <th>0</th>\n",
       "      <td>402435</td>\n",
       "      <td>8532</td>\n",
       "      <td>0</td>\n",
       "      <td>1997</td>\n",
       "    </tr>\n",
       "    <tr>\n",
       "      <th>1</th>\n",
       "      <td>1022983</td>\n",
       "      <td>8507</td>\n",
       "      <td>0</td>\n",
       "      <td>1950</td>\n",
       "    </tr>\n",
       "  </tbody>\n",
       "</table>\n",
       "</div>"
      ],
      "text/plain": [
       "   person_id  gender_concept_id  ethnicity_concept_id  year_of_birth\n",
       "0     402435               8532                     0           1997\n",
       "1    1022983               8507                     0           1950"
      ]
     },
     "execution_count": 5,
     "metadata": {},
     "output_type": "execute_result"
    }
   ],
   "source": [
    "persons = person_data[[\"person_id\", \"gender_concept_id\", \"ethnicity_concept_id\", \"year_of_birth\"]]\n",
    "persons.head(2)"
   ]
  },
  {
   "cell_type": "code",
   "execution_count": 6,
   "metadata": {},
   "outputs": [
    {
     "data": {
      "text/html": [
       "<div>\n",
       "<style scoped>\n",
       "    .dataframe tbody tr th:only-of-type {\n",
       "        vertical-align: middle;\n",
       "    }\n",
       "\n",
       "    .dataframe tbody tr th {\n",
       "        vertical-align: top;\n",
       "    }\n",
       "\n",
       "    .dataframe thead th {\n",
       "        text-align: right;\n",
       "    }\n",
       "</style>\n",
       "<table border=\"1\" class=\"dataframe\">\n",
       "  <thead>\n",
       "    <tr style=\"text-align: right;\">\n",
       "      <th></th>\n",
       "      <th>person_id</th>\n",
       "      <th>death_date</th>\n",
       "    </tr>\n",
       "  </thead>\n",
       "  <tbody>\n",
       "    <tr>\n",
       "      <th>0</th>\n",
       "      <td>1691806</td>\n",
       "      <td>2015-06-02</td>\n",
       "    </tr>\n",
       "    <tr>\n",
       "      <th>1</th>\n",
       "      <td>99181</td>\n",
       "      <td>2018-11-04</td>\n",
       "    </tr>\n",
       "  </tbody>\n",
       "</table>\n",
       "</div>"
      ],
      "text/plain": [
       "   person_id  death_date\n",
       "0    1691806  2015-06-02\n",
       "1      99181  2018-11-04"
      ]
     },
     "execution_count": 6,
     "metadata": {},
     "output_type": "execute_result"
    }
   ],
   "source": [
    "death = death_data[[\"person_id\", \"death_date\"]]\n",
    "death.head(2)"
   ]
  },
  {
   "cell_type": "code",
   "execution_count": 7,
   "metadata": {},
   "outputs": [
    {
     "data": {
      "text/html": [
       "<div>\n",
       "<style scoped>\n",
       "    .dataframe tbody tr th:only-of-type {\n",
       "        vertical-align: middle;\n",
       "    }\n",
       "\n",
       "    .dataframe tbody tr th {\n",
       "        vertical-align: top;\n",
       "    }\n",
       "\n",
       "    .dataframe thead th {\n",
       "        text-align: right;\n",
       "    }\n",
       "</style>\n",
       "<table border=\"1\" class=\"dataframe\">\n",
       "  <thead>\n",
       "    <tr style=\"text-align: right;\">\n",
       "      <th></th>\n",
       "      <th>person_id</th>\n",
       "      <th>visit_occurrence_id</th>\n",
       "      <th>visit_concept_id</th>\n",
       "      <th>visit_end_date</th>\n",
       "      <th>visit_start_date</th>\n",
       "    </tr>\n",
       "  </thead>\n",
       "  <tbody>\n",
       "    <tr>\n",
       "      <th>0</th>\n",
       "      <td>116496</td>\n",
       "      <td>36112943</td>\n",
       "      <td>9202</td>\n",
       "      <td>1962-04-13</td>\n",
       "      <td>1962-04-13</td>\n",
       "    </tr>\n",
       "    <tr>\n",
       "      <th>1</th>\n",
       "      <td>116496</td>\n",
       "      <td>36112944</td>\n",
       "      <td>9202</td>\n",
       "      <td>1962-04-24</td>\n",
       "      <td>1962-04-24</td>\n",
       "    </tr>\n",
       "  </tbody>\n",
       "</table>\n",
       "</div>"
      ],
      "text/plain": [
       "   person_id  visit_occurrence_id  visit_concept_id visit_end_date  \\\n",
       "0     116496             36112943              9202     1962-04-13   \n",
       "1     116496             36112944              9202     1962-04-24   \n",
       "\n",
       "  visit_start_date  \n",
       "0       1962-04-13  \n",
       "1       1962-04-24  "
      ]
     },
     "execution_count": 7,
     "metadata": {},
     "output_type": "execute_result"
    }
   ],
   "source": [
    "visit_occurrences = visit_occurrence_data[[\"person_id\", \"visit_occurrence_id\", \"visit_concept_id\", \"visit_end_date\", \"visit_start_date\"]]\n",
    "visit_occurrences.head(2)"
   ]
  },
  {
   "cell_type": "code",
   "execution_count": 8,
   "metadata": {},
   "outputs": [
    {
     "data": {
      "text/html": [
       "<div>\n",
       "<style scoped>\n",
       "    .dataframe tbody tr th:only-of-type {\n",
       "        vertical-align: middle;\n",
       "    }\n",
       "\n",
       "    .dataframe tbody tr th {\n",
       "        vertical-align: top;\n",
       "    }\n",
       "\n",
       "    .dataframe thead th {\n",
       "        text-align: right;\n",
       "    }\n",
       "</style>\n",
       "<table border=\"1\" class=\"dataframe\">\n",
       "  <thead>\n",
       "    <tr style=\"text-align: right;\">\n",
       "      <th></th>\n",
       "      <th>person_id</th>\n",
       "      <th>visit_occurrence_id</th>\n",
       "      <th>condition_concept_id</th>\n",
       "      <th>condition_source_value</th>\n",
       "    </tr>\n",
       "  </thead>\n",
       "  <tbody>\n",
       "    <tr>\n",
       "      <th>0</th>\n",
       "      <td>116496</td>\n",
       "      <td>36112954</td>\n",
       "      <td>0</td>\n",
       "      <td>162864005</td>\n",
       "    </tr>\n",
       "    <tr>\n",
       "      <th>1</th>\n",
       "      <td>116496</td>\n",
       "      <td>36112952</td>\n",
       "      <td>0</td>\n",
       "      <td>840544004</td>\n",
       "    </tr>\n",
       "  </tbody>\n",
       "</table>\n",
       "</div>"
      ],
      "text/plain": [
       "   person_id  visit_occurrence_id  condition_concept_id  \\\n",
       "0     116496             36112954                     0   \n",
       "1     116496             36112952                     0   \n",
       "\n",
       "   condition_source_value  \n",
       "0               162864005  \n",
       "1               840544004  "
      ]
     },
     "execution_count": 8,
     "metadata": {},
     "output_type": "execute_result"
    }
   ],
   "source": [
    "condition_occurrences = condition_occurrence_data[[\"person_id\", \"visit_occurrence_id\", \"condition_concept_id\", \"condition_source_value\"]]\n",
    "condition_occurrences.head(2)"
   ]
  },
  {
   "cell_type": "code",
   "execution_count": 9,
   "metadata": {},
   "outputs": [
    {
     "data": {
      "text/html": [
       "<div>\n",
       "<style scoped>\n",
       "    .dataframe tbody tr th:only-of-type {\n",
       "        vertical-align: middle;\n",
       "    }\n",
       "\n",
       "    .dataframe tbody tr th {\n",
       "        vertical-align: top;\n",
       "    }\n",
       "\n",
       "    .dataframe thead th {\n",
       "        text-align: right;\n",
       "    }\n",
       "</style>\n",
       "<table border=\"1\" class=\"dataframe\">\n",
       "  <thead>\n",
       "    <tr style=\"text-align: right;\">\n",
       "      <th></th>\n",
       "      <th>person_id</th>\n",
       "      <th>visit_occurrence_id</th>\n",
       "      <th>drug_concept_id</th>\n",
       "      <th>drug_source_value</th>\n",
       "    </tr>\n",
       "  </thead>\n",
       "  <tbody>\n",
       "    <tr>\n",
       "      <th>0</th>\n",
       "      <td>26922</td>\n",
       "      <td>99499216</td>\n",
       "      <td>19073183</td>\n",
       "      <td>308182</td>\n",
       "    </tr>\n",
       "    <tr>\n",
       "      <th>1</th>\n",
       "      <td>2955</td>\n",
       "      <td>9251642</td>\n",
       "      <td>40231925</td>\n",
       "      <td>1049221</td>\n",
       "    </tr>\n",
       "  </tbody>\n",
       "</table>\n",
       "</div>"
      ],
      "text/plain": [
       "   person_id  visit_occurrence_id  drug_concept_id  drug_source_value\n",
       "0      26922             99499216         19073183             308182\n",
       "1       2955              9251642         40231925            1049221"
      ]
     },
     "execution_count": 9,
     "metadata": {},
     "output_type": "execute_result"
    }
   ],
   "source": [
    "drug_exposures = drug_exposure_data[[\"person_id\", \"visit_occurrence_id\", \"drug_concept_id\", \"drug_source_value\"]]\n",
    "drug_exposures.head(2)"
   ]
  },
  {
   "cell_type": "markdown",
   "metadata": {},
   "source": [
    "### person 데이터와 visit_occurrence 데이터의 새로운 컬럼 생성\n",
    "- person: 나이 (year_of_birth)\n",
    "- visit_occurrence: 내원일수 (visit_end_date - visit_start_date)"
   ]
  },
  {
   "cell_type": "code",
   "execution_count": 10,
   "metadata": {
    "scrolled": true
   },
   "outputs": [
    {
     "name": "stderr",
     "output_type": "stream",
     "text": [
      "<ipython-input-10-8f18ad4e47dd>:2: SettingWithCopyWarning: \n",
      "A value is trying to be set on a copy of a slice from a DataFrame.\n",
      "Try using .loc[row_indexer,col_indexer] = value instead\n",
      "\n",
      "See the caveats in the documentation: https://pandas.pydata.org/pandas-docs/stable/user_guide/indexing.html#returning-a-view-versus-a-copy\n",
      "  persons[\"age\"] = int(today) - persons[\"year_of_birth\"] + 1 # 한국은 만나이가 아니므로 1을 더해줌\n"
     ]
    }
   ],
   "source": [
    "today = date.today().strftime(\"%Y\")\n",
    "persons[\"age\"] = int(today) - persons[\"year_of_birth\"] + 1 # 한국은 만나이가 아니므로 1을 더해줌\n",
    "\n",
    "# year_of_birth 컬럼 제거\n",
    "if \"year_of_birth\" in list(persons.columns):\n",
    "    persons = persons.drop([\"year_of_birth\"], axis=1)"
   ]
  },
  {
   "cell_type": "code",
   "execution_count": 11,
   "metadata": {},
   "outputs": [
    {
     "data": {
      "text/html": [
       "<div>\n",
       "<style scoped>\n",
       "    .dataframe tbody tr th:only-of-type {\n",
       "        vertical-align: middle;\n",
       "    }\n",
       "\n",
       "    .dataframe tbody tr th {\n",
       "        vertical-align: top;\n",
       "    }\n",
       "\n",
       "    .dataframe thead th {\n",
       "        text-align: right;\n",
       "    }\n",
       "</style>\n",
       "<table border=\"1\" class=\"dataframe\">\n",
       "  <thead>\n",
       "    <tr style=\"text-align: right;\">\n",
       "      <th></th>\n",
       "      <th>person_id</th>\n",
       "      <th>gender_concept_id</th>\n",
       "      <th>ethnicity_concept_id</th>\n",
       "      <th>age</th>\n",
       "    </tr>\n",
       "  </thead>\n",
       "  <tbody>\n",
       "    <tr>\n",
       "      <th>0</th>\n",
       "      <td>402435</td>\n",
       "      <td>8532</td>\n",
       "      <td>0</td>\n",
       "      <td>24</td>\n",
       "    </tr>\n",
       "    <tr>\n",
       "      <th>1</th>\n",
       "      <td>1022983</td>\n",
       "      <td>8507</td>\n",
       "      <td>0</td>\n",
       "      <td>71</td>\n",
       "    </tr>\n",
       "  </tbody>\n",
       "</table>\n",
       "</div>"
      ],
      "text/plain": [
       "   person_id  gender_concept_id  ethnicity_concept_id  age\n",
       "0     402435               8532                     0   24\n",
       "1    1022983               8507                     0   71"
      ]
     },
     "execution_count": 11,
     "metadata": {},
     "output_type": "execute_result"
    }
   ],
   "source": [
    "persons.head(2)"
   ]
  },
  {
   "cell_type": "code",
   "execution_count": 12,
   "metadata": {},
   "outputs": [
    {
     "name": "stderr",
     "output_type": "stream",
     "text": [
      "<ipython-input-12-77196e6bb3e9>:1: SettingWithCopyWarning: \n",
      "A value is trying to be set on a copy of a slice from a DataFrame.\n",
      "Try using .loc[row_indexer,col_indexer] = value instead\n",
      "\n",
      "See the caveats in the documentation: https://pandas.pydata.org/pandas-docs/stable/user_guide/indexing.html#returning-a-view-versus-a-copy\n",
      "  visit_occurrences[\"visit\"] = pd.to_datetime(visit_occurrences['visit_end_date']) \\\n"
     ]
    }
   ],
   "source": [
    "visit_occurrences[\"visit\"] = pd.to_datetime(visit_occurrences['visit_end_date']) \\\n",
    "                                - pd.to_datetime(visit_occurrences['visit_start_date'])\n",
    "\n",
    "# visit_end_date, visit_start_date 컬럼 제거\n",
    "for c in visit_occurrences.columns:\n",
    "    if c == \"visit_end_date\" or c == \"visit_start_date\":\n",
    "        visit_occurrences = visit_occurrences.drop([c], axis=1)"
   ]
  },
  {
   "cell_type": "code",
   "execution_count": 13,
   "metadata": {},
   "outputs": [
    {
     "data": {
      "text/html": [
       "<div>\n",
       "<style scoped>\n",
       "    .dataframe tbody tr th:only-of-type {\n",
       "        vertical-align: middle;\n",
       "    }\n",
       "\n",
       "    .dataframe tbody tr th {\n",
       "        vertical-align: top;\n",
       "    }\n",
       "\n",
       "    .dataframe thead th {\n",
       "        text-align: right;\n",
       "    }\n",
       "</style>\n",
       "<table border=\"1\" class=\"dataframe\">\n",
       "  <thead>\n",
       "    <tr style=\"text-align: right;\">\n",
       "      <th></th>\n",
       "      <th>person_id</th>\n",
       "      <th>visit_occurrence_id</th>\n",
       "      <th>visit_concept_id</th>\n",
       "      <th>visit</th>\n",
       "    </tr>\n",
       "  </thead>\n",
       "  <tbody>\n",
       "    <tr>\n",
       "      <th>0</th>\n",
       "      <td>116496</td>\n",
       "      <td>36112943</td>\n",
       "      <td>9202</td>\n",
       "      <td>0 days</td>\n",
       "    </tr>\n",
       "    <tr>\n",
       "      <th>1</th>\n",
       "      <td>116496</td>\n",
       "      <td>36112944</td>\n",
       "      <td>9202</td>\n",
       "      <td>0 days</td>\n",
       "    </tr>\n",
       "    <tr>\n",
       "      <th>2</th>\n",
       "      <td>116496</td>\n",
       "      <td>36112954</td>\n",
       "      <td>9202</td>\n",
       "      <td>0 days</td>\n",
       "    </tr>\n",
       "  </tbody>\n",
       "</table>\n",
       "</div>"
      ],
      "text/plain": [
       "   person_id  visit_occurrence_id  visit_concept_id  visit\n",
       "0     116496             36112943              9202 0 days\n",
       "1     116496             36112944              9202 0 days\n",
       "2     116496             36112954              9202 0 days"
      ]
     },
     "execution_count": 13,
     "metadata": {},
     "output_type": "execute_result"
    }
   ],
   "source": [
    "visit_occurrences.head(3)"
   ]
  },
  {
   "cell_type": "markdown",
   "metadata": {},
   "source": [
    "## JOIN DATA\n",
    "- person_id와 visit_occurrence_id로 join하여 데이터를 하나로 만든다."
   ]
  },
  {
   "cell_type": "code",
   "execution_count": 14,
   "metadata": {},
   "outputs": [
    {
     "name": "stdout",
     "output_type": "stream",
     "text": [
      "1000 152 41810 12167 46579\n"
     ]
    }
   ],
   "source": [
    "print(len(persons), len(death), len(visit_occurrence_data), len(condition_occurrence_data), len(drug_exposure_data))"
   ]
  },
  {
   "cell_type": "markdown",
   "metadata": {},
   "source": [
    "#### person과 death를 조인하면 사망한 사람의 정보를 알 수 있음"
   ]
  },
  {
   "cell_type": "code",
   "execution_count": 15,
   "metadata": {},
   "outputs": [
    {
     "data": {
      "text/html": [
       "<div>\n",
       "<style scoped>\n",
       "    .dataframe tbody tr th:only-of-type {\n",
       "        vertical-align: middle;\n",
       "    }\n",
       "\n",
       "    .dataframe tbody tr th {\n",
       "        vertical-align: top;\n",
       "    }\n",
       "\n",
       "    .dataframe thead th {\n",
       "        text-align: right;\n",
       "    }\n",
       "</style>\n",
       "<table border=\"1\" class=\"dataframe\">\n",
       "  <thead>\n",
       "    <tr style=\"text-align: right;\">\n",
       "      <th></th>\n",
       "      <th>person_id</th>\n",
       "      <th>gender_concept_id</th>\n",
       "      <th>ethnicity_concept_id</th>\n",
       "      <th>age</th>\n",
       "      <th>death_date</th>\n",
       "    </tr>\n",
       "  </thead>\n",
       "  <tbody>\n",
       "    <tr>\n",
       "      <th>998</th>\n",
       "      <td>2565313</td>\n",
       "      <td>8532</td>\n",
       "      <td>0</td>\n",
       "      <td>56</td>\n",
       "      <td>NaN</td>\n",
       "    </tr>\n",
       "    <tr>\n",
       "      <th>999</th>\n",
       "      <td>277792</td>\n",
       "      <td>8507</td>\n",
       "      <td>0</td>\n",
       "      <td>67</td>\n",
       "      <td>NaN</td>\n",
       "    </tr>\n",
       "  </tbody>\n",
       "</table>\n",
       "</div>"
      ],
      "text/plain": [
       "     person_id  gender_concept_id  ethnicity_concept_id  age death_date\n",
       "998    2565313               8532                     0   56        NaN\n",
       "999     277792               8507                     0   67        NaN"
      ]
     },
     "execution_count": 15,
     "metadata": {},
     "output_type": "execute_result"
    }
   ],
   "source": [
    "new_data = pd.merge(persons, death, how='left', on='person_id')\n",
    "new_data.tail(2)"
   ]
  },
  {
   "cell_type": "markdown",
   "metadata": {},
   "source": [
    "#### person+death+visit_occurrence"
   ]
  },
  {
   "cell_type": "code",
   "execution_count": 16,
   "metadata": {},
   "outputs": [
    {
     "data": {
      "text/html": [
       "<div>\n",
       "<style scoped>\n",
       "    .dataframe tbody tr th:only-of-type {\n",
       "        vertical-align: middle;\n",
       "    }\n",
       "\n",
       "    .dataframe tbody tr th {\n",
       "        vertical-align: top;\n",
       "    }\n",
       "\n",
       "    .dataframe thead th {\n",
       "        text-align: right;\n",
       "    }\n",
       "</style>\n",
       "<table border=\"1\" class=\"dataframe\">\n",
       "  <thead>\n",
       "    <tr style=\"text-align: right;\">\n",
       "      <th></th>\n",
       "      <th>person_id</th>\n",
       "      <th>gender_concept_id</th>\n",
       "      <th>ethnicity_concept_id</th>\n",
       "      <th>age</th>\n",
       "      <th>death_date</th>\n",
       "      <th>visit_occurrence_id</th>\n",
       "      <th>visit_concept_id</th>\n",
       "      <th>visit</th>\n",
       "    </tr>\n",
       "  </thead>\n",
       "  <tbody>\n",
       "    <tr>\n",
       "      <th>41808</th>\n",
       "      <td>277792</td>\n",
       "      <td>8507</td>\n",
       "      <td>0</td>\n",
       "      <td>67</td>\n",
       "      <td>NaN</td>\n",
       "      <td>67292323</td>\n",
       "      <td>9202</td>\n",
       "      <td>0 days</td>\n",
       "    </tr>\n",
       "    <tr>\n",
       "      <th>41809</th>\n",
       "      <td>277792</td>\n",
       "      <td>8507</td>\n",
       "      <td>0</td>\n",
       "      <td>67</td>\n",
       "      <td>NaN</td>\n",
       "      <td>67292311</td>\n",
       "      <td>9202</td>\n",
       "      <td>0 days</td>\n",
       "    </tr>\n",
       "  </tbody>\n",
       "</table>\n",
       "</div>"
      ],
      "text/plain": [
       "       person_id  gender_concept_id  ethnicity_concept_id  age death_date  \\\n",
       "41808     277792               8507                     0   67        NaN   \n",
       "41809     277792               8507                     0   67        NaN   \n",
       "\n",
       "       visit_occurrence_id  visit_concept_id  visit  \n",
       "41808             67292323              9202 0 days  \n",
       "41809             67292311              9202 0 days  "
      ]
     },
     "execution_count": 16,
     "metadata": {},
     "output_type": "execute_result"
    }
   ],
   "source": [
    "new_data = pd.merge(new_data, visit_occurrences, on='person_id')\n",
    "new_data.tail(2)"
   ]
  },
  {
   "cell_type": "markdown",
   "metadata": {},
   "source": [
    "#### person+death+visit_occurrence+condition_occurrences"
   ]
  },
  {
   "cell_type": "code",
   "execution_count": 17,
   "metadata": {},
   "outputs": [
    {
     "data": {
      "text/html": [
       "<div>\n",
       "<style scoped>\n",
       "    .dataframe tbody tr th:only-of-type {\n",
       "        vertical-align: middle;\n",
       "    }\n",
       "\n",
       "    .dataframe tbody tr th {\n",
       "        vertical-align: top;\n",
       "    }\n",
       "\n",
       "    .dataframe thead th {\n",
       "        text-align: right;\n",
       "    }\n",
       "</style>\n",
       "<table border=\"1\" class=\"dataframe\">\n",
       "  <thead>\n",
       "    <tr style=\"text-align: right;\">\n",
       "      <th></th>\n",
       "      <th>person_id</th>\n",
       "      <th>gender_concept_id</th>\n",
       "      <th>ethnicity_concept_id</th>\n",
       "      <th>age</th>\n",
       "      <th>death_date</th>\n",
       "      <th>visit_occurrence_id</th>\n",
       "      <th>visit_concept_id</th>\n",
       "      <th>visit</th>\n",
       "      <th>condition_concept_id</th>\n",
       "      <th>condition_source_value</th>\n",
       "    </tr>\n",
       "  </thead>\n",
       "  <tbody>\n",
       "    <tr>\n",
       "      <th>12165</th>\n",
       "      <td>277792</td>\n",
       "      <td>8507</td>\n",
       "      <td>0</td>\n",
       "      <td>67</td>\n",
       "      <td>NaN</td>\n",
       "      <td>67292311</td>\n",
       "      <td>9202</td>\n",
       "      <td>0 days</td>\n",
       "      <td>0</td>\n",
       "      <td>840544004</td>\n",
       "    </tr>\n",
       "    <tr>\n",
       "      <th>12166</th>\n",
       "      <td>277792</td>\n",
       "      <td>8507</td>\n",
       "      <td>0</td>\n",
       "      <td>67</td>\n",
       "      <td>NaN</td>\n",
       "      <td>67292311</td>\n",
       "      <td>9202</td>\n",
       "      <td>0 days</td>\n",
       "      <td>37311061</td>\n",
       "      <td>840539006</td>\n",
       "    </tr>\n",
       "  </tbody>\n",
       "</table>\n",
       "</div>"
      ],
      "text/plain": [
       "       person_id  gender_concept_id  ethnicity_concept_id  age death_date  \\\n",
       "12165     277792               8507                     0   67        NaN   \n",
       "12166     277792               8507                     0   67        NaN   \n",
       "\n",
       "       visit_occurrence_id  visit_concept_id  visit  condition_concept_id  \\\n",
       "12165             67292311              9202 0 days                     0   \n",
       "12166             67292311              9202 0 days              37311061   \n",
       "\n",
       "       condition_source_value  \n",
       "12165               840544004  \n",
       "12166               840539006  "
      ]
     },
     "execution_count": 17,
     "metadata": {},
     "output_type": "execute_result"
    }
   ],
   "source": [
    "new_data = pd.merge(new_data, condition_occurrences, on=['person_id', 'visit_occurrence_id'])\n",
    "new_data.tail(2)"
   ]
  },
  {
   "cell_type": "markdown",
   "metadata": {},
   "source": [
    "#### person+death+visit_occurrence+condition_occurrences"
   ]
  },
  {
   "cell_type": "code",
   "execution_count": 18,
   "metadata": {
    "scrolled": true
   },
   "outputs": [
    {
     "data": {
      "text/html": [
       "<div>\n",
       "<style scoped>\n",
       "    .dataframe tbody tr th:only-of-type {\n",
       "        vertical-align: middle;\n",
       "    }\n",
       "\n",
       "    .dataframe tbody tr th {\n",
       "        vertical-align: top;\n",
       "    }\n",
       "\n",
       "    .dataframe thead th {\n",
       "        text-align: right;\n",
       "    }\n",
       "</style>\n",
       "<table border=\"1\" class=\"dataframe\">\n",
       "  <thead>\n",
       "    <tr style=\"text-align: right;\">\n",
       "      <th></th>\n",
       "      <th>person_id</th>\n",
       "      <th>gender_concept_id</th>\n",
       "      <th>ethnicity_concept_id</th>\n",
       "      <th>age</th>\n",
       "      <th>death_date</th>\n",
       "      <th>visit_occurrence_id</th>\n",
       "      <th>visit_concept_id</th>\n",
       "      <th>visit</th>\n",
       "      <th>condition_concept_id</th>\n",
       "      <th>condition_source_value</th>\n",
       "      <th>drug_concept_id</th>\n",
       "      <th>drug_source_value</th>\n",
       "    </tr>\n",
       "  </thead>\n",
       "  <tbody>\n",
       "    <tr>\n",
       "      <th>8204</th>\n",
       "      <td>2565313</td>\n",
       "      <td>8532</td>\n",
       "      <td>0</td>\n",
       "      <td>56</td>\n",
       "      <td>NaN</td>\n",
       "      <td>41635384</td>\n",
       "      <td>9202</td>\n",
       "      <td>0 days</td>\n",
       "      <td>4294548</td>\n",
       "      <td>75498004</td>\n",
       "      <td>1713671</td>\n",
       "      <td>562251</td>\n",
       "    </tr>\n",
       "    <tr>\n",
       "      <th>8205</th>\n",
       "      <td>277792</td>\n",
       "      <td>8507</td>\n",
       "      <td>0</td>\n",
       "      <td>67</td>\n",
       "      <td>NaN</td>\n",
       "      <td>67292308</td>\n",
       "      <td>9202</td>\n",
       "      <td>0 days</td>\n",
       "      <td>260139</td>\n",
       "      <td>10509002</td>\n",
       "      <td>1127433</td>\n",
       "      <td>313782</td>\n",
       "    </tr>\n",
       "  </tbody>\n",
       "</table>\n",
       "</div>"
      ],
      "text/plain": [
       "      person_id  gender_concept_id  ethnicity_concept_id  age death_date  \\\n",
       "8204    2565313               8532                     0   56        NaN   \n",
       "8205     277792               8507                     0   67        NaN   \n",
       "\n",
       "      visit_occurrence_id  visit_concept_id  visit  condition_concept_id  \\\n",
       "8204             41635384              9202 0 days               4294548   \n",
       "8205             67292308              9202 0 days                260139   \n",
       "\n",
       "      condition_source_value  drug_concept_id  drug_source_value  \n",
       "8204                75498004          1713671             562251  \n",
       "8205                10509002          1127433             313782  "
      ]
     },
     "execution_count": 18,
     "metadata": {},
     "output_type": "execute_result"
    }
   ],
   "source": [
    "new_data = pd.merge(new_data, drug_exposures, on=['person_id', 'visit_occurrence_id'])\n",
    "new_data.tail(2)"
   ]
  },
  {
   "cell_type": "markdown",
   "metadata": {},
   "source": [
    "### COPY DATA"
   ]
  },
  {
   "cell_type": "code",
   "execution_count": 19,
   "metadata": {},
   "outputs": [
    {
     "data": {
      "text/html": [
       "<div>\n",
       "<style scoped>\n",
       "    .dataframe tbody tr th:only-of-type {\n",
       "        vertical-align: middle;\n",
       "    }\n",
       "\n",
       "    .dataframe tbody tr th {\n",
       "        vertical-align: top;\n",
       "    }\n",
       "\n",
       "    .dataframe thead th {\n",
       "        text-align: right;\n",
       "    }\n",
       "</style>\n",
       "<table border=\"1\" class=\"dataframe\">\n",
       "  <thead>\n",
       "    <tr style=\"text-align: right;\">\n",
       "      <th></th>\n",
       "      <th>person_id</th>\n",
       "      <th>gender_concept_id</th>\n",
       "      <th>ethnicity_concept_id</th>\n",
       "      <th>age</th>\n",
       "      <th>death_date</th>\n",
       "      <th>visit_occurrence_id</th>\n",
       "      <th>visit_concept_id</th>\n",
       "      <th>visit</th>\n",
       "      <th>condition_concept_id</th>\n",
       "      <th>condition_source_value</th>\n",
       "      <th>drug_concept_id</th>\n",
       "      <th>drug_source_value</th>\n",
       "    </tr>\n",
       "  </thead>\n",
       "  <tbody>\n",
       "    <tr>\n",
       "      <th>8204</th>\n",
       "      <td>2565313</td>\n",
       "      <td>8532</td>\n",
       "      <td>0</td>\n",
       "      <td>56</td>\n",
       "      <td>NaN</td>\n",
       "      <td>41635384</td>\n",
       "      <td>9202</td>\n",
       "      <td>0 days</td>\n",
       "      <td>4294548</td>\n",
       "      <td>75498004</td>\n",
       "      <td>1713671</td>\n",
       "      <td>562251</td>\n",
       "    </tr>\n",
       "    <tr>\n",
       "      <th>8205</th>\n",
       "      <td>277792</td>\n",
       "      <td>8507</td>\n",
       "      <td>0</td>\n",
       "      <td>67</td>\n",
       "      <td>NaN</td>\n",
       "      <td>67292308</td>\n",
       "      <td>9202</td>\n",
       "      <td>0 days</td>\n",
       "      <td>260139</td>\n",
       "      <td>10509002</td>\n",
       "      <td>1127433</td>\n",
       "      <td>313782</td>\n",
       "    </tr>\n",
       "  </tbody>\n",
       "</table>\n",
       "</div>"
      ],
      "text/plain": [
       "      person_id  gender_concept_id  ethnicity_concept_id  age death_date  \\\n",
       "8204    2565313               8532                     0   56        NaN   \n",
       "8205     277792               8507                     0   67        NaN   \n",
       "\n",
       "      visit_occurrence_id  visit_concept_id  visit  condition_concept_id  \\\n",
       "8204             41635384              9202 0 days               4294548   \n",
       "8205             67292308              9202 0 days                260139   \n",
       "\n",
       "      condition_source_value  drug_concept_id  drug_source_value  \n",
       "8204                75498004          1713671             562251  \n",
       "8205                10509002          1127433             313782  "
      ]
     },
     "execution_count": 19,
     "metadata": {},
     "output_type": "execute_result"
    }
   ],
   "source": [
    "data_copy = new_data.copy()\n",
    "data_copy.tail(2)"
   ]
  },
  {
   "cell_type": "markdown",
   "metadata": {},
   "source": [
    "### NaN value 체크"
   ]
  },
  {
   "cell_type": "code",
   "execution_count": 20,
   "metadata": {},
   "outputs": [
    {
     "name": "stdout",
     "output_type": "stream",
     "text": [
      "person_id                    0\n",
      "gender_concept_id            0\n",
      "ethnicity_concept_id         0\n",
      "age                          0\n",
      "death_date                5436\n",
      "visit_occurrence_id          0\n",
      "visit_concept_id             0\n",
      "visit                        0\n",
      "condition_concept_id         0\n",
      "condition_source_value       0\n",
      "drug_concept_id              0\n",
      "drug_source_value            0\n",
      "dtype: int64\n"
     ]
    }
   ],
   "source": [
    "print(data_copy.isnull().sum())"
   ]
  },
  {
   "cell_type": "code",
   "execution_count": null,
   "metadata": {},
   "outputs": [],
   "source": []
  },
  {
   "cell_type": "code",
   "execution_count": null,
   "metadata": {},
   "outputs": [],
   "source": []
  },
  {
   "cell_type": "code",
   "execution_count": null,
   "metadata": {},
   "outputs": [],
   "source": []
  },
  {
   "cell_type": "code",
   "execution_count": null,
   "metadata": {},
   "outputs": [],
   "source": []
  },
  {
   "cell_type": "code",
   "execution_count": null,
   "metadata": {},
   "outputs": [],
   "source": []
  },
  {
   "cell_type": "code",
   "execution_count": null,
   "metadata": {},
   "outputs": [],
   "source": []
  }
 ],
 "metadata": {
  "kernelspec": {
   "display_name": "Python 3",
   "language": "python",
   "name": "python3"
  },
  "language_info": {
   "codemirror_mode": {
    "name": "ipython",
    "version": 3
   },
   "file_extension": ".py",
   "mimetype": "text/x-python",
   "name": "python",
   "nbconvert_exporter": "python",
   "pygments_lexer": "ipython3",
   "version": "3.8.6"
  }
 },
 "nbformat": 4,
 "nbformat_minor": 4
}
